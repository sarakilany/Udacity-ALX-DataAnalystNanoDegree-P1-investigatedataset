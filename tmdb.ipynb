{
 "cells": [
  {
   "cell_type": "markdown",
   "metadata": {},
   "source": [
    "\n",
    "# Project: The Movies Database (TMDB) Data Analysis\n",
    "\n",
    "## Table of Contents\n",
    "<ul>\n",
    "<li><a href=\"#intro\">Introduction</a></li>\n",
    "<li><a href=\"#wrangling\">Data Wrangling</a></li>\n",
    "<li><a href=\"#eda\">Exploratory Data Analysis</a></li>\n",
    "<li><a href=\"#conclusions\">Conclusions</a></li>\n",
    "</ul>"
   ]
  },
  {
   "cell_type": "markdown",
   "metadata": {},
   "source": [
    "<a id='intro'></a>\n",
    "## Introduction\n",
    "<p>The data of 10000 movies were collected from The Movies Database (TMDB). This dataset countains information about these movies including their titles, budget, popularity, revenue, cast, homepage, director, genre, and release_year.\n",
    "The information regarding both budget and revenue exist in both original and adjusted values according to the rates of 2010. Our goal is to invesitgate the revenue of movies how it relates to genre, budget, and production companeis  </p>\n",
    " \n",
    "<p>For our analysis we will answer the following questions:\n",
    "<li> Which movies have the highest and lowest revenue? How does revenue relate to revenue categories? </li>\n",
    "    <li> Which movies had greatest losses and which made largest profits? How did profit change through the years? </li>\n",
    "    <li> Which year has the largest sum of vote_count ? and which movie? How does vote_count relate to other variables?  </li>\n",
    "    <li> Who are the top directors in terms of their films' revenue and popularity? How did the list of the top 3 change with time? </li>\n",
    "</p>\n"
   ]
  },
  {
   "cell_type": "code",
   "execution_count": 1,
   "metadata": {},
   "outputs": [],
   "source": [
    "# importing the packages necessary for analysis\n",
    "import pandas as pd\n",
    "import numpy as np\n",
    "import matplotlib.pyplot as plt\n",
    "import seaborn as sn\n",
    "%matplotlib inline"
   ]
  },
  {
   "cell_type": "markdown",
   "metadata": {},
   "source": [
    "<a id='wrangling'></a>\n",
    "## Data Wrangling\n",
    "\n",
    "\n",
    "\n",
    "### General Properties"
   ]
  },
  {
   "cell_type": "markdown",
   "metadata": {},
   "source": [
    "#### Gathering and Assessing Dataset\n",
    "First, we view the first and last few columns of the data to observe data structure in general. Then we explore data types and values that would exist. Finally, we clean the data by converting data types, droping columns, handeling null values irrelavent to our analysis and posed questions, and resturcturing the data when required. "
   ]
  },
  {
   "cell_type": "code",
   "execution_count": 2,
   "metadata": {},
   "outputs": [
    {
     "data": {
      "text/html": [
       "<div>\n",
       "<style scoped>\n",
       "    .dataframe tbody tr th:only-of-type {\n",
       "        vertical-align: middle;\n",
       "    }\n",
       "\n",
       "    .dataframe tbody tr th {\n",
       "        vertical-align: top;\n",
       "    }\n",
       "\n",
       "    .dataframe thead th {\n",
       "        text-align: right;\n",
       "    }\n",
       "</style>\n",
       "<table border=\"1\" class=\"dataframe\">\n",
       "  <thead>\n",
       "    <tr style=\"text-align: right;\">\n",
       "      <th></th>\n",
       "      <th>id</th>\n",
       "      <th>imdb_id</th>\n",
       "      <th>popularity</th>\n",
       "      <th>budget</th>\n",
       "      <th>revenue</th>\n",
       "      <th>original_title</th>\n",
       "      <th>cast</th>\n",
       "      <th>homepage</th>\n",
       "      <th>director</th>\n",
       "      <th>tagline</th>\n",
       "      <th>...</th>\n",
       "      <th>overview</th>\n",
       "      <th>runtime</th>\n",
       "      <th>genres</th>\n",
       "      <th>production_companies</th>\n",
       "      <th>release_date</th>\n",
       "      <th>vote_count</th>\n",
       "      <th>vote_average</th>\n",
       "      <th>release_year</th>\n",
       "      <th>budget_adj</th>\n",
       "      <th>revenue_adj</th>\n",
       "    </tr>\n",
       "  </thead>\n",
       "  <tbody>\n",
       "    <tr>\n",
       "      <th>0</th>\n",
       "      <td>135397</td>\n",
       "      <td>tt0369610</td>\n",
       "      <td>32.985763</td>\n",
       "      <td>150000000</td>\n",
       "      <td>1513528810</td>\n",
       "      <td>Jurassic World</td>\n",
       "      <td>Chris Pratt|Bryce Dallas Howard|Irrfan Khan|Vi...</td>\n",
       "      <td>http://www.jurassicworld.com/</td>\n",
       "      <td>Colin Trevorrow</td>\n",
       "      <td>The park is open.</td>\n",
       "      <td>...</td>\n",
       "      <td>Twenty-two years after the events of Jurassic ...</td>\n",
       "      <td>124</td>\n",
       "      <td>Action|Adventure|Science Fiction|Thriller</td>\n",
       "      <td>Universal Studios|Amblin Entertainment|Legenda...</td>\n",
       "      <td>6/9/15</td>\n",
       "      <td>5562</td>\n",
       "      <td>6.5</td>\n",
       "      <td>2015</td>\n",
       "      <td>1.379999e+08</td>\n",
       "      <td>1.392446e+09</td>\n",
       "    </tr>\n",
       "    <tr>\n",
       "      <th>1</th>\n",
       "      <td>76341</td>\n",
       "      <td>tt1392190</td>\n",
       "      <td>28.419936</td>\n",
       "      <td>150000000</td>\n",
       "      <td>378436354</td>\n",
       "      <td>Mad Max: Fury Road</td>\n",
       "      <td>Tom Hardy|Charlize Theron|Hugh Keays-Byrne|Nic...</td>\n",
       "      <td>http://www.madmaxmovie.com/</td>\n",
       "      <td>George Miller</td>\n",
       "      <td>What a Lovely Day.</td>\n",
       "      <td>...</td>\n",
       "      <td>An apocalyptic story set in the furthest reach...</td>\n",
       "      <td>120</td>\n",
       "      <td>Action|Adventure|Science Fiction|Thriller</td>\n",
       "      <td>Village Roadshow Pictures|Kennedy Miller Produ...</td>\n",
       "      <td>5/13/15</td>\n",
       "      <td>6185</td>\n",
       "      <td>7.1</td>\n",
       "      <td>2015</td>\n",
       "      <td>1.379999e+08</td>\n",
       "      <td>3.481613e+08</td>\n",
       "    </tr>\n",
       "  </tbody>\n",
       "</table>\n",
       "<p>2 rows × 21 columns</p>\n",
       "</div>"
      ],
      "text/plain": [
       "       id    imdb_id  popularity     budget     revenue      original_title  \\\n",
       "0  135397  tt0369610   32.985763  150000000  1513528810      Jurassic World   \n",
       "1   76341  tt1392190   28.419936  150000000   378436354  Mad Max: Fury Road   \n",
       "\n",
       "                                                cast  \\\n",
       "0  Chris Pratt|Bryce Dallas Howard|Irrfan Khan|Vi...   \n",
       "1  Tom Hardy|Charlize Theron|Hugh Keays-Byrne|Nic...   \n",
       "\n",
       "                        homepage         director             tagline  ...  \\\n",
       "0  http://www.jurassicworld.com/  Colin Trevorrow   The park is open.  ...   \n",
       "1    http://www.madmaxmovie.com/    George Miller  What a Lovely Day.  ...   \n",
       "\n",
       "                                            overview runtime  \\\n",
       "0  Twenty-two years after the events of Jurassic ...     124   \n",
       "1  An apocalyptic story set in the furthest reach...     120   \n",
       "\n",
       "                                      genres  \\\n",
       "0  Action|Adventure|Science Fiction|Thriller   \n",
       "1  Action|Adventure|Science Fiction|Thriller   \n",
       "\n",
       "                                production_companies release_date vote_count  \\\n",
       "0  Universal Studios|Amblin Entertainment|Legenda...       6/9/15       5562   \n",
       "1  Village Roadshow Pictures|Kennedy Miller Produ...      5/13/15       6185   \n",
       "\n",
       "   vote_average  release_year    budget_adj   revenue_adj  \n",
       "0           6.5          2015  1.379999e+08  1.392446e+09  \n",
       "1           7.1          2015  1.379999e+08  3.481613e+08  \n",
       "\n",
       "[2 rows x 21 columns]"
      ]
     },
     "execution_count": 2,
     "metadata": {},
     "output_type": "execute_result"
    }
   ],
   "source": [
    "# Loading data and printing out a few lines.\n",
    "df = pd.read_csv('tmdb-movies.csv')\n",
    "df.head(2)"
   ]
  },
  {
   "cell_type": "code",
   "execution_count": 3,
   "metadata": {},
   "outputs": [
    {
     "name": "stdout",
     "output_type": "stream",
     "text": [
      "<class 'pandas.core.frame.DataFrame'>\n",
      "RangeIndex: 10866 entries, 0 to 10865\n",
      "Data columns (total 21 columns):\n",
      " #   Column                Non-Null Count  Dtype  \n",
      "---  ------                --------------  -----  \n",
      " 0   id                    10866 non-null  int64  \n",
      " 1   imdb_id               10856 non-null  object \n",
      " 2   popularity            10866 non-null  float64\n",
      " 3   budget                10866 non-null  int64  \n",
      " 4   revenue               10866 non-null  int64  \n",
      " 5   original_title        10866 non-null  object \n",
      " 6   cast                  10790 non-null  object \n",
      " 7   homepage              2936 non-null   object \n",
      " 8   director              10822 non-null  object \n",
      " 9   tagline               8042 non-null   object \n",
      " 10  keywords              9373 non-null   object \n",
      " 11  overview              10862 non-null  object \n",
      " 12  runtime               10866 non-null  int64  \n",
      " 13  genres                10843 non-null  object \n",
      " 14  production_companies  9836 non-null   object \n",
      " 15  release_date          10866 non-null  object \n",
      " 16  vote_count            10866 non-null  int64  \n",
      " 17  vote_average          10866 non-null  float64\n",
      " 18  release_year          10866 non-null  int64  \n",
      " 19  budget_adj            10866 non-null  float64\n",
      " 20  revenue_adj           10866 non-null  float64\n",
      "dtypes: float64(4), int64(6), object(11)\n",
      "memory usage: 1.7+ MB\n"
     ]
    }
   ],
   "source": [
    "#investigate the data types and null values\n",
    "df.info()"
   ]
  },
  {
   "cell_type": "code",
   "execution_count": 4,
   "metadata": {},
   "outputs": [],
   "source": [
    "# Creating a function to invistigate unique values and display the first 30 of those for a column\n",
    "def unique_30(df,col):\n",
    "    return df[col].unique()[0:30]\n",
    "    "
   ]
  },
  {
   "cell_type": "code",
   "execution_count": 5,
   "metadata": {},
   "outputs": [
    {
     "name": "stdout",
     "output_type": "stream",
     "text": [
      "director :  ['Colin Trevorrow' 'George Miller' 'Robert Schwentke' 'J.J. Abrams'\n",
      " 'James Wan' 'Alejandro GonzÃ¡lez IÃ±Ã¡rritu' 'Alan Taylor' 'Ridley Scott'\n",
      " 'Kyle Balda|Pierre Coffin' 'Pete Docter' 'Sam Mendes'\n",
      " 'Lana Wachowski|Lilly Wachowski' 'Alex Garland' 'Chris Columbus'\n",
      " 'Joss Whedon' 'Quentin Tarantino' 'Olivier Megaton' 'Peyton Reed'\n",
      " 'Kenneth Branagh' 'Francis Lawrence' 'Brad Bird' 'Antoine Fuqua'\n",
      " 'Brad Peyton' 'Sam Taylor-Johnson' 'Adam McKay' 'Christopher McQuarrie'\n",
      " 'Seth MacFarlane' 'Matthew Vaughn' 'Tom McCarthy' 'Wes Ball']\n",
      "genres :  ['Action|Adventure|Science Fiction|Thriller'\n",
      " 'Adventure|Science Fiction|Thriller'\n",
      " 'Action|Adventure|Science Fiction|Fantasy' 'Action|Crime|Thriller'\n",
      " 'Western|Drama|Adventure|Thriller'\n",
      " 'Science Fiction|Action|Thriller|Adventure'\n",
      " 'Drama|Adventure|Science Fiction' 'Family|Animation|Adventure|Comedy'\n",
      " 'Comedy|Animation|Family' 'Action|Adventure|Crime'\n",
      " 'Science Fiction|Fantasy|Action|Adventure' 'Drama|Science Fiction'\n",
      " 'Action|Comedy|Science Fiction' 'Action|Adventure|Science Fiction'\n",
      " 'Crime|Drama|Mystery|Western' 'Crime|Action|Thriller'\n",
      " 'Science Fiction|Action|Adventure' 'Romance|Fantasy|Family|Drama'\n",
      " 'War|Adventure|Science Fiction'\n",
      " 'Action|Family|Science Fiction|Adventure|Mystery' 'Action|Drama'\n",
      " 'Action|Drama|Thriller' 'Drama|Romance' 'Comedy|Drama' 'Action' 'Comedy'\n",
      " 'Crime|Comedy|Action|Adventure' 'Drama|Thriller|History'\n",
      " 'Action|Science Fiction|Thriller' 'Mystery|Drama']\n",
      "production_companies :  ['Universal Studios|Amblin Entertainment|Legendary Pictures|Fuji Television Network|Dentsu'\n",
      " 'Village Roadshow Pictures|Kennedy Miller Productions'\n",
      " 'Summit Entertainment|Mandeville Films|Red Wagon Entertainment|NeoReel'\n",
      " 'Lucasfilm|Truenorth Productions|Bad Robot'\n",
      " 'Universal Pictures|Original Film|Media Rights Capital|Dentsu|One Race Films'\n",
      " 'Regency Enterprises|Appian Way|CatchPlay|Anonymous Content|New Regency Pictures'\n",
      " 'Paramount Pictures|Skydance Productions'\n",
      " 'Twentieth Century Fox Film Corporation|Scott Free Productions|Mid Atlantic Films|International Traders|TSG Entertainment'\n",
      " 'Universal Pictures|Illumination Entertainment'\n",
      " 'Walt Disney Pictures|Pixar Animation Studios|Walt Disney Studios Motion Pictures'\n",
      " 'Columbia Pictures|Danjaq|B24'\n",
      " 'Village Roadshow Pictures|Dune Entertainment|Anarchos Productions|Warner Bros.'\n",
      " 'DNA Films|Universal Pictures International (UPI)|Film4'\n",
      " 'Columbia Pictures|Happy Madison Productions'\n",
      " 'Marvel Studios|Prime Focus|Revolution Sun Studios'\n",
      " 'Double Feature Films|The Weinstein Company|FilmColony'\n",
      " 'Twentieth Century Fox Film Corporation|M6 Films|Canal+|EuropaCorp|CinÃ©+'\n",
      " 'Marvel Studios'\n",
      " 'Walt Disney Pictures|Genre Films|Beagle Pug Films|Allison Shearmur Productions'\n",
      " 'Studio Babelsberg|StudioCanal|Lionsgate|Walt Disney Studios Motion Pictures|Color Force'\n",
      " 'Walt Disney Pictures|Babieka|A113'\n",
      " 'Escape Artists|Riche-Ludwig Productions'\n",
      " 'New Line Cinema|Village Roadshow Pictures|Warner Bros.|Flynn Picture Company'\n",
      " 'Focus Features|Trigger Street Productions|Michael De Luca Productions'\n",
      " 'Paramount Pictures|Plan B Entertainment|Regency Enterprises'\n",
      " 'Paramount Pictures|Skydance Productions|China Movie Channel|Bad Robot|TC Productions'\n",
      " 'Universal Pictures|Media Rights Capital|Fuzzy Door Productions'\n",
      " 'Twentieth Century Fox Film Corporation|Marv Films|TSG Entertainment|Cloudy Productions'\n",
      " 'Participant Media|Open Road Films|Anonymous Content|Rocklin / Faust|Entertainment One Features'\n",
      " 'Gotham Group|Temple Hill Entertainment|TSG Entertainment']\n"
     ]
    }
   ],
   "source": [
    "#investigating unique values for genres, director and production_companies\n",
    "cols = ['director','genres','production_companies']\n",
    "for col in cols:\n",
    "    print(col,\": \", unique_30(df,col))\n",
    "    "
   ]
  },
  {
   "cell_type": "markdown",
   "metadata": {},
   "source": [
    "We find that many recordes in genres, director, and production companies columns contain several values separated by |. For our purposes we will get the first value of each record for the three columns in the cleaning process."
   ]
  },
  {
   "cell_type": "code",
   "execution_count": 6,
   "metadata": {},
   "outputs": [
    {
     "data": {
      "text/plain": [
       "Int64Index([2090], dtype='int64')"
      ]
     },
     "execution_count": 6,
     "metadata": {},
     "output_type": "execute_result"
    }
   ],
   "source": [
    "#looking for duplicates\n",
    "df[df.duplicated()==True].index"
   ]
  },
  {
   "cell_type": "markdown",
   "metadata": {},
   "source": [
    "Through iteration analysing data, zero values for budget and revenue were discovered. We get the number of rows with zero values."
   ]
  },
  {
   "cell_type": "code",
   "execution_count": 7,
   "metadata": {},
   "outputs": [
    {
     "data": {
      "text/plain": [
       "5696"
      ]
     },
     "execution_count": 7,
     "metadata": {},
     "output_type": "execute_result"
    }
   ],
   "source": [
    "#check for zero values in the budget column\n",
    "df.query('budget==0').budget.count()"
   ]
  },
  {
   "cell_type": "code",
   "execution_count": 8,
   "metadata": {},
   "outputs": [
    {
     "data": {
      "text/plain": [
       "6016"
      ]
     },
     "execution_count": 8,
     "metadata": {},
     "output_type": "execute_result"
    }
   ],
   "source": [
    "#check for zero values in the budget column\n",
    "df.query('revenue==0').revenue.count()"
   ]
  },
  {
   "cell_type": "markdown",
   "metadata": {},
   "source": [
    "We conclude from the assessment that the data need the following specific operations:\n",
    "<li> Drop imdb_id, cast, home,page, tagline, keywords, overview columns because they contain data that we do not need to answer our questions</li>\n",
    "<li> Change the type of budget and revenue columns from int64 to float64.</li>\n",
    "<li> Remove duplicate values in row 2090 </li>\n",
    "<li> Fix null values in the remaining columns</li>\n",
    "<li> Drop the rows where budget and revenue are zero valued</li>\n",
    "<li> Separate the values in genres and directors, production companies columns and consider the main values only (first value) </li>\n"
   ]
  },
  {
   "cell_type": "markdown",
   "metadata": {},
   "source": [
    "### Data Cleaning : Drop Columns, Drop nulls and zeros, Drop duplicates, change data types, and restructure columns"
   ]
  },
  {
   "cell_type": "markdown",
   "metadata": {},
   "source": [
    "Now we perform the needed cleaning."
   ]
  },
  {
   "cell_type": "markdown",
   "metadata": {},
   "source": [
    "#### Dropping Extraneous Columns"
   ]
  },
  {
   "cell_type": "code",
   "execution_count": 9,
   "metadata": {},
   "outputs": [
    {
     "data": {
      "text/html": [
       "<div>\n",
       "<style scoped>\n",
       "    .dataframe tbody tr th:only-of-type {\n",
       "        vertical-align: middle;\n",
       "    }\n",
       "\n",
       "    .dataframe tbody tr th {\n",
       "        vertical-align: top;\n",
       "    }\n",
       "\n",
       "    .dataframe thead th {\n",
       "        text-align: right;\n",
       "    }\n",
       "</style>\n",
       "<table border=\"1\" class=\"dataframe\">\n",
       "  <thead>\n",
       "    <tr style=\"text-align: right;\">\n",
       "      <th></th>\n",
       "      <th>id</th>\n",
       "      <th>popularity</th>\n",
       "      <th>budget</th>\n",
       "      <th>revenue</th>\n",
       "      <th>original_title</th>\n",
       "      <th>director</th>\n",
       "      <th>genres</th>\n",
       "      <th>production_companies</th>\n",
       "      <th>vote_count</th>\n",
       "      <th>vote_average</th>\n",
       "      <th>release_year</th>\n",
       "      <th>budget_adj</th>\n",
       "      <th>revenue_adj</th>\n",
       "    </tr>\n",
       "  </thead>\n",
       "  <tbody>\n",
       "    <tr>\n",
       "      <th>0</th>\n",
       "      <td>135397</td>\n",
       "      <td>32.985763</td>\n",
       "      <td>150000000</td>\n",
       "      <td>1513528810</td>\n",
       "      <td>Jurassic World</td>\n",
       "      <td>Colin Trevorrow</td>\n",
       "      <td>Action|Adventure|Science Fiction|Thriller</td>\n",
       "      <td>Universal Studios|Amblin Entertainment|Legenda...</td>\n",
       "      <td>5562</td>\n",
       "      <td>6.5</td>\n",
       "      <td>2015</td>\n",
       "      <td>1.379999e+08</td>\n",
       "      <td>1.392446e+09</td>\n",
       "    </tr>\n",
       "  </tbody>\n",
       "</table>\n",
       "</div>"
      ],
      "text/plain": [
       "       id  popularity     budget     revenue  original_title         director  \\\n",
       "0  135397   32.985763  150000000  1513528810  Jurassic World  Colin Trevorrow   \n",
       "\n",
       "                                      genres  \\\n",
       "0  Action|Adventure|Science Fiction|Thriller   \n",
       "\n",
       "                                production_companies  vote_count  \\\n",
       "0  Universal Studios|Amblin Entertainment|Legenda...        5562   \n",
       "\n",
       "   vote_average  release_year    budget_adj   revenue_adj  \n",
       "0           6.5          2015  1.379999e+08  1.392446e+09  "
      ]
     },
     "execution_count": 9,
     "metadata": {},
     "output_type": "execute_result"
    }
   ],
   "source": [
    "# Droping unneeded columns\n",
    "col_to_drop = ['imdb_id','cast', 'homepage', 'tagline', 'overview', 'keywords','overview','runtime','release_date']\n",
    "df.drop(columns= col_to_drop, axis=1, inplace=True)\n",
    "\n",
    "#confirm changes\n",
    "df.head(1)"
   ]
  },
  {
   "cell_type": "markdown",
   "metadata": {},
   "source": [
    "#### Changing Data Types"
   ]
  },
  {
   "cell_type": "code",
   "execution_count": 10,
   "metadata": {},
   "outputs": [
    {
     "name": "stdout",
     "output_type": "stream",
     "text": [
      "<class 'pandas.core.frame.DataFrame'>\n",
      "RangeIndex: 10866 entries, 0 to 10865\n",
      "Data columns (total 13 columns):\n",
      " #   Column                Non-Null Count  Dtype  \n",
      "---  ------                --------------  -----  \n",
      " 0   id                    10866 non-null  int64  \n",
      " 1   popularity            10866 non-null  float64\n",
      " 2   budget                10866 non-null  float64\n",
      " 3   revenue               10866 non-null  float64\n",
      " 4   original_title        10866 non-null  object \n",
      " 5   director              10822 non-null  object \n",
      " 6   genres                10843 non-null  object \n",
      " 7   production_companies  9836 non-null   object \n",
      " 8   vote_count            10866 non-null  int64  \n",
      " 9   vote_average          10866 non-null  float64\n",
      " 10  release_year          10866 non-null  int64  \n",
      " 11  budget_adj            10866 non-null  float64\n",
      " 12  revenue_adj           10866 non-null  float64\n",
      "dtypes: float64(6), int64(3), object(4)\n",
      "memory usage: 1.1+ MB\n"
     ]
    }
   ],
   "source": [
    "#Changing data types\n",
    "df['budget']=df['budget'].astype(float)\n",
    "df['revenue']=df['revenue'].astype(float)\n",
    "df['revenue_adj']=df['revenue_adj'].astype(float)\n",
    "\n",
    "# confirm changes\n",
    "df.info()"
   ]
  },
  {
   "cell_type": "markdown",
   "metadata": {},
   "source": [
    "#### Removing Duplicates"
   ]
  },
  {
   "cell_type": "code",
   "execution_count": 11,
   "metadata": {},
   "outputs": [],
   "source": [
    "# Removing Duplicates\n",
    "df.drop_duplicates(inplace=True)"
   ]
  },
  {
   "cell_type": "markdown",
   "metadata": {},
   "source": [
    "#### Restructuring 'director','genres', and 'production_companies' Columns"
   ]
  },
  {
   "cell_type": "code",
   "execution_count": 12,
   "metadata": {},
   "outputs": [],
   "source": [
    "#To restructure a column and get the first value of that column for each record, we create a function\n",
    "def split_col_values(col, separator):\n",
    "    ''' This function splits the data in a column separated by some character and returns the first value to that column'''\n",
    "    df[col]=df[col].str.split(str(separator)).str[0]\n",
    "    "
   ]
  },
  {
   "cell_type": "code",
   "execution_count": 13,
   "metadata": {},
   "outputs": [
    {
     "data": {
      "text/html": [
       "<div>\n",
       "<style scoped>\n",
       "    .dataframe tbody tr th:only-of-type {\n",
       "        vertical-align: middle;\n",
       "    }\n",
       "\n",
       "    .dataframe tbody tr th {\n",
       "        vertical-align: top;\n",
       "    }\n",
       "\n",
       "    .dataframe thead th {\n",
       "        text-align: right;\n",
       "    }\n",
       "</style>\n",
       "<table border=\"1\" class=\"dataframe\">\n",
       "  <thead>\n",
       "    <tr style=\"text-align: right;\">\n",
       "      <th></th>\n",
       "      <th>id</th>\n",
       "      <th>popularity</th>\n",
       "      <th>budget</th>\n",
       "      <th>revenue</th>\n",
       "      <th>original_title</th>\n",
       "      <th>director</th>\n",
       "      <th>genres</th>\n",
       "      <th>production_companies</th>\n",
       "      <th>vote_count</th>\n",
       "      <th>vote_average</th>\n",
       "      <th>release_year</th>\n",
       "      <th>budget_adj</th>\n",
       "      <th>revenue_adj</th>\n",
       "    </tr>\n",
       "  </thead>\n",
       "  <tbody>\n",
       "    <tr>\n",
       "      <th>0</th>\n",
       "      <td>135397</td>\n",
       "      <td>32.985763</td>\n",
       "      <td>150000000.0</td>\n",
       "      <td>1.513529e+09</td>\n",
       "      <td>Jurassic World</td>\n",
       "      <td>Colin Trevorrow</td>\n",
       "      <td>Action</td>\n",
       "      <td>Universal Studios</td>\n",
       "      <td>5562</td>\n",
       "      <td>6.5</td>\n",
       "      <td>2015</td>\n",
       "      <td>1.379999e+08</td>\n",
       "      <td>1.392446e+09</td>\n",
       "    </tr>\n",
       "  </tbody>\n",
       "</table>\n",
       "</div>"
      ],
      "text/plain": [
       "       id  popularity       budget       revenue  original_title  \\\n",
       "0  135397   32.985763  150000000.0  1.513529e+09  Jurassic World   \n",
       "\n",
       "          director  genres production_companies  vote_count  vote_average  \\\n",
       "0  Colin Trevorrow  Action    Universal Studios        5562           6.5   \n",
       "\n",
       "   release_year    budget_adj   revenue_adj  \n",
       "0          2015  1.379999e+08  1.392446e+09  "
      ]
     },
     "execution_count": 13,
     "metadata": {},
     "output_type": "execute_result"
    }
   ],
   "source": [
    "# Restructuring 'director','genres', and 'production_companies' for our analysis\n",
    "cols = ['director','genres','production_companies']\n",
    "for col in cols:\n",
    "    split_col_values(col,'|')\n",
    "#confirm changes\n",
    "df.head(1)"
   ]
  },
  {
   "cell_type": "markdown",
   "metadata": {},
   "source": [
    "#### Droping null and zero Values"
   ]
  },
  {
   "cell_type": "code",
   "execution_count": 14,
   "metadata": {},
   "outputs": [
    {
     "name": "stdout",
     "output_type": "stream",
     "text": [
      "<class 'pandas.core.frame.DataFrame'>\n",
      "Int64Index: 10865 entries, 0 to 10865\n",
      "Data columns (total 13 columns):\n",
      " #   Column                Non-Null Count  Dtype  \n",
      "---  ------                --------------  -----  \n",
      " 0   id                    10865 non-null  int64  \n",
      " 1   popularity            10865 non-null  float64\n",
      " 2   budget                10865 non-null  float64\n",
      " 3   revenue               10865 non-null  float64\n",
      " 4   original_title        10865 non-null  object \n",
      " 5   director              10821 non-null  object \n",
      " 6   genres                10842 non-null  object \n",
      " 7   production_companies  9835 non-null   object \n",
      " 8   vote_count            10865 non-null  int64  \n",
      " 9   vote_average          10865 non-null  float64\n",
      " 10  release_year          10865 non-null  int64  \n",
      " 11  budget_adj            10865 non-null  float64\n",
      " 12  revenue_adj           10865 non-null  float64\n",
      "dtypes: float64(6), int64(3), object(4)\n",
      "memory usage: 1.2+ MB\n"
     ]
    }
   ],
   "source": [
    "df.info()"
   ]
  },
  {
   "cell_type": "code",
   "execution_count": 15,
   "metadata": {},
   "outputs": [
    {
     "data": {
      "text/plain": [
       "0.921091050771459"
      ]
     },
     "execution_count": 15,
     "metadata": {},
     "output_type": "execute_result"
    }
   ],
   "source": [
    "# Droping rows with zero values in the budget_adj column or the budget column\n",
    "df = df.query('budget_adj >0 & budget>0')\n",
    "\n",
    "#confirm changes\n",
    "df['budget_adj'].min()"
   ]
  },
  {
   "cell_type": "code",
   "execution_count": 16,
   "metadata": {},
   "outputs": [
    {
     "data": {
      "text/plain": [
       "2.37070528956505"
      ]
     },
     "execution_count": 16,
     "metadata": {},
     "output_type": "execute_result"
    }
   ],
   "source": [
    "# Droping rows with zero values in the revenue or revenue_adj columns\n",
    "df = df.query('revenue >0 & revenue_adj>0')\n",
    "\n",
    "#confirm changes\n",
    "df['revenue_adj'].min()"
   ]
  },
  {
   "cell_type": "markdown",
   "metadata": {},
   "source": [
    "Through iteration of the data analysis process, some movies appeared to have a budget that was tens, hunderds and thousands times or bigger than the revenue, investigating some of these movies, it turned out that they had large revenue but the data was inaccurate, some had only few hunderd dollars revenue which was false. Setting a cutoff ratio was seen as a reasonable solution(the cutoff choice is based on observation, this needs further improvement probably through machine learning to observe which movies have erraneous data.) We chose to use budget and revenue instead of their adjusted values to avoid removing recent movies with real high values of budget."
   ]
  },
  {
   "cell_type": "markdown",
   "metadata": {},
   "source": [
    "#### Revenue and Budget Cutoff Values"
   ]
  },
  {
   "cell_type": "code",
   "execution_count": 17,
   "metadata": {},
   "outputs": [],
   "source": [
    "# Defining a funciton to plot the distribution around the suspected cutoff\n",
    "def cut_off_plot(df,col,operation , cutoff):\n",
    "    df.query(str(col)+str(operation)+str(cutoff))[col].hist(figsize=(8,8),bins = 20)\n",
    "    "
   ]
  },
  {
   "cell_type": "code",
   "execution_count": 18,
   "metadata": {},
   "outputs": [],
   "source": [
    "# Defining a function to drop columns below cutoffs\n",
    "def drop_below_cutoff(df,col, operation, value):\n",
    "    df = df.query(str(col)+str(operation)+str(value))\n",
    " "
   ]
  },
  {
   "cell_type": "code",
   "execution_count": 19,
   "metadata": {},
   "outputs": [
    {
     "data": {
      "image/png": "[encoded data removed]",
      "text/plain": [
       "<Figure size 576x576 with 1 Axes>"
      ]
     },
     "metadata": {
      "needs_background": "light"
     },
     "output_type": "display_data"
    }
   ],
   "source": [
    "# Investigating the dirtriubtion of the ratio between budget and revenue\n",
    "df['budget_rev_ratio'] = df['budget']/df['revenue']\n",
    "cut_off_plot(df,'budget_rev_ratio',\"<\", df['budget_rev_ratio'].max())"
   ]
  },
  {
   "cell_type": "markdown",
   "metadata": {},
   "source": [
    "As we can see from the graph, there are some movies that have 3000,000 time more budget than the revenue, so we try values below 200"
   ]
  },
  {
   "cell_type": "code",
   "execution_count": 20,
   "metadata": {},
   "outputs": [
    {
     "data": {
      "image/png": "[encoded data removed]",
      "text/plain": [
       "<Figure size 576x576 with 1 Axes>"
      ]
     },
     "metadata": {
      "needs_background": "light"
     },
     "output_type": "display_data"
    }
   ],
   "source": [
    "# Investigating a much lower value of cut_off\n",
    "cut_off_plot(df,'budget_rev_ratio',\"<\", 200\n",
    "            )"
   ]
  },
  {
   "cell_type": "markdown",
   "metadata": {},
   "source": [
    "We choose our value to be 50 as the cutoff and drop columns with more than this value as a ratio between budget and revenue"
   ]
  },
  {
   "cell_type": "code",
   "execution_count": 21,
   "metadata": {},
   "outputs": [
    {
     "name": "stdout",
     "output_type": "stream",
     "text": [
      "<class 'pandas.core.frame.DataFrame'>\n",
      "Int64Index: 3854 entries, 0 to 10848\n",
      "Data columns (total 14 columns):\n",
      " #   Column                Non-Null Count  Dtype  \n",
      "---  ------                --------------  -----  \n",
      " 0   id                    3854 non-null   int64  \n",
      " 1   popularity            3854 non-null   float64\n",
      " 2   budget                3854 non-null   float64\n",
      " 3   revenue               3854 non-null   float64\n",
      " 4   original_title        3854 non-null   object \n",
      " 5   director              3853 non-null   object \n",
      " 6   genres                3854 non-null   object \n",
      " 7   production_companies  3808 non-null   object \n",
      " 8   vote_count            3854 non-null   int64  \n",
      " 9   vote_average          3854 non-null   float64\n",
      " 10  release_year          3854 non-null   int64  \n",
      " 11  budget_adj            3854 non-null   float64\n",
      " 12  revenue_adj           3854 non-null   float64\n",
      " 13  budget_rev_ratio      3854 non-null   float64\n",
      "dtypes: float64(7), int64(3), object(4)\n",
      "memory usage: 451.6+ KB\n"
     ]
    }
   ],
   "source": [
    "#removing movies with ratio of >50 between budget and revenue\n",
    "drop_below_cutoff(df,'budget_rev_ratio', '<', 50)\n",
    "\n",
    "#confirming changes\n",
    "df.info()"
   ]
  },
  {
   "cell_type": "markdown",
   "metadata": {},
   "source": [
    "We also found that the minimum of the budget_adj was 0.9 and minimum of revenue_adj was 2.73. We will investigate cut_off value for budget and revenue columns which will certainly have much less values."
   ]
  },
  {
   "cell_type": "code",
   "execution_count": 22,
   "metadata": {},
   "outputs": [
    {
     "data": {
      "image/png": "[encoded data removed]",
      "text/plain": [
       "<Figure size 576x576 with 1 Axes>"
      ]
     },
     "metadata": {
      "needs_background": "light"
     },
     "output_type": "display_data"
    }
   ],
   "source": [
    "# getting the distribution of small budget values\n",
    "df.query('budget<10000').budget.hist(figsize=(8,8),bins = 20);"
   ]
  },
  {
   "cell_type": "markdown",
   "metadata": {},
   "source": [
    "We set another cut off for budget of 5000 and remove data with less budget."
   ]
  },
  {
   "cell_type": "code",
   "execution_count": 23,
   "metadata": {},
   "outputs": [
    {
     "data": {
      "text/plain": [
       "6000.0"
      ]
     },
     "execution_count": 23,
     "metadata": {},
     "output_type": "execute_result"
    }
   ],
   "source": [
    "#we set a threshold of 5000 $ budget\n",
    "df=df.query('budget >5000')\n",
    "\n",
    "#confirming changes\n",
    "df['budget'].min()"
   ]
  },
  {
   "cell_type": "markdown",
   "metadata": {},
   "source": [
    "Similarly, we investigate the threshold for revenue"
   ]
  },
  {
   "cell_type": "code",
   "execution_count": 24,
   "metadata": {},
   "outputs": [
    {
     "data": {
      "text/plain": [
       "<matplotlib.axes._subplots.AxesSubplot at 0x187f86ce128>"
      ]
     },
     "execution_count": 24,
     "metadata": {},
     "output_type": "execute_result"
    },
    {
     "data": {
      "image/png": "[encoded data removed]",
      "text/plain": [
       "<Figure size 576x576 with 1 Axes>"
      ]
     },
     "metadata": {
      "needs_background": "light"
     },
     "output_type": "display_data"
    }
   ],
   "source": [
    "# investigating small values of revenue\n",
    "df.query('revenue<100000').revenue.hist(figsize=(8,8),bins = 20)"
   ]
  },
  {
   "cell_type": "code",
   "execution_count": 25,
   "metadata": {},
   "outputs": [
    {
     "data": {
      "text/plain": [
       "7000.0"
      ]
     },
     "execution_count": 25,
     "metadata": {},
     "output_type": "execute_result"
    }
   ],
   "source": [
    "# we set a threshold of 20000 $ reveune\n",
    "df = df.query('revenue >20000')\n",
    "\n",
    "#confirming changes\n",
    "df['budget'].min()"
   ]
  },
  {
   "cell_type": "code",
   "execution_count": 26,
   "metadata": {},
   "outputs": [
    {
     "name": "stdout",
     "output_type": "stream",
     "text": [
      "<class 'pandas.core.frame.DataFrame'>\n",
      "Int64Index: 3794 entries, 0 to 10848\n",
      "Data columns (total 14 columns):\n",
      " #   Column                Non-Null Count  Dtype  \n",
      "---  ------                --------------  -----  \n",
      " 0   id                    3794 non-null   int64  \n",
      " 1   popularity            3794 non-null   float64\n",
      " 2   budget                3794 non-null   float64\n",
      " 3   revenue               3794 non-null   float64\n",
      " 4   original_title        3794 non-null   object \n",
      " 5   director              3793 non-null   object \n",
      " 6   genres                3794 non-null   object \n",
      " 7   production_companies  3752 non-null   object \n",
      " 8   vote_count            3794 non-null   int64  \n",
      " 9   vote_average          3794 non-null   float64\n",
      " 10  release_year          3794 non-null   int64  \n",
      " 11  budget_adj            3794 non-null   float64\n",
      " 12  revenue_adj           3794 non-null   float64\n",
      " 13  budget_rev_ratio      3794 non-null   float64\n",
      "dtypes: float64(7), int64(3), object(4)\n",
      "memory usage: 444.6+ KB\n"
     ]
    }
   ],
   "source": [
    "df.info()"
   ]
  },
  {
   "cell_type": "code",
   "execution_count": 27,
   "metadata": {},
   "outputs": [],
   "source": [
    "# Droping rows with null values in the director column and saving it to a separate dataframe\n",
    "df_dir = df.dropna(subset=['director'])\n",
    "#droping director from df\n",
    "df.drop('director', axis=1, inplace = True)\n",
    "# Droping rows with null values in the production_companies column and saving it to a separate dataframe\n",
    "df_prod_com = df.dropna(subset=['production_companies'])\n",
    "#droping production_companies from df\n",
    "df.drop('production_companies', axis=1, inplace = True)"
   ]
  },
  {
   "cell_type": "code",
   "execution_count": 28,
   "metadata": {},
   "outputs": [
    {
     "name": "stdout",
     "output_type": "stream",
     "text": [
      "<class 'pandas.core.frame.DataFrame'>\n",
      "Int64Index: 3794 entries, 0 to 10848\n",
      "Data columns (total 12 columns):\n",
      " #   Column            Non-Null Count  Dtype  \n",
      "---  ------            --------------  -----  \n",
      " 0   id                3794 non-null   int64  \n",
      " 1   popularity        3794 non-null   float64\n",
      " 2   budget            3794 non-null   float64\n",
      " 3   revenue           3794 non-null   float64\n",
      " 4   original_title    3794 non-null   object \n",
      " 5   genres            3794 non-null   object \n",
      " 6   vote_count        3794 non-null   int64  \n",
      " 7   vote_average      3794 non-null   float64\n",
      " 8   release_year      3794 non-null   int64  \n",
      " 9   budget_adj        3794 non-null   float64\n",
      " 10  revenue_adj       3794 non-null   float64\n",
      " 11  budget_rev_ratio  3794 non-null   float64\n",
      "dtypes: float64(7), int64(3), object(2)\n",
      "memory usage: 385.3+ KB\n"
     ]
    }
   ],
   "source": [
    "#Checking df \n",
    "df.info()"
   ]
  },
  {
   "cell_type": "code",
   "execution_count": null,
   "metadata": {},
   "outputs": [],
   "source": []
  },
  {
   "cell_type": "markdown",
   "metadata": {},
   "source": [
    "<a id='eda'></a>\n",
    "## Exploratory Data Analysis"
   ]
  },
  {
   "cell_type": "code",
   "execution_count": 29,
   "metadata": {},
   "outputs": [
    {
     "data": {
      "text/html": [
       "<div>\n",
       "<style scoped>\n",
       "    .dataframe tbody tr th:only-of-type {\n",
       "        vertical-align: middle;\n",
       "    }\n",
       "\n",
       "    .dataframe tbody tr th {\n",
       "        vertical-align: top;\n",
       "    }\n",
       "\n",
       "    .dataframe thead th {\n",
       "        text-align: right;\n",
       "    }\n",
       "</style>\n",
       "<table border=\"1\" class=\"dataframe\">\n",
       "  <thead>\n",
       "    <tr style=\"text-align: right;\">\n",
       "      <th></th>\n",
       "      <th>id</th>\n",
       "      <th>popularity</th>\n",
       "      <th>budget</th>\n",
       "      <th>revenue</th>\n",
       "      <th>vote_count</th>\n",
       "      <th>vote_average</th>\n",
       "      <th>release_year</th>\n",
       "      <th>budget_adj</th>\n",
       "      <th>revenue_adj</th>\n",
       "      <th>budget_rev_ratio</th>\n",
       "    </tr>\n",
       "  </thead>\n",
       "  <tbody>\n",
       "    <tr>\n",
       "      <th>count</th>\n",
       "      <td>3794.000000</td>\n",
       "      <td>3794.000000</td>\n",
       "      <td>3.794000e+03</td>\n",
       "      <td>3.794000e+03</td>\n",
       "      <td>3794.000000</td>\n",
       "      <td>3794.000000</td>\n",
       "      <td>3794.000000</td>\n",
       "      <td>3.794000e+03</td>\n",
       "      <td>3.794000e+03</td>\n",
       "      <td>3794.000000</td>\n",
       "    </tr>\n",
       "    <tr>\n",
       "      <th>mean</th>\n",
       "      <td>39568.376911</td>\n",
       "      <td>1.203017</td>\n",
       "      <td>3.766178e+07</td>\n",
       "      <td>1.093568e+08</td>\n",
       "      <td>534.717712</td>\n",
       "      <td>6.174618</td>\n",
       "      <td>2001.223511</td>\n",
       "      <td>4.478859e+07</td>\n",
       "      <td>1.391677e+08</td>\n",
       "      <td>3.373156</td>\n",
       "    </tr>\n",
       "    <tr>\n",
       "      <th>std</th>\n",
       "      <td>67092.169643</td>\n",
       "      <td>1.483508</td>\n",
       "      <td>4.232636e+07</td>\n",
       "      <td>1.774161e+08</td>\n",
       "      <td>884.966281</td>\n",
       "      <td>0.792239</td>\n",
       "      <td>11.305182</td>\n",
       "      <td>4.487647e+07</td>\n",
       "      <td>2.171294e+08</td>\n",
       "      <td>24.477057</td>\n",
       "    </tr>\n",
       "    <tr>\n",
       "      <th>min</th>\n",
       "      <td>5.000000</td>\n",
       "      <td>0.001117</td>\n",
       "      <td>7.000000e+03</td>\n",
       "      <td>2.038000e+04</td>\n",
       "      <td>10.000000</td>\n",
       "      <td>2.200000</td>\n",
       "      <td>1960.000000</td>\n",
       "      <td>7.755184e+03</td>\n",
       "      <td>2.132676e+04</td>\n",
       "      <td>0.000078</td>\n",
       "    </tr>\n",
       "    <tr>\n",
       "      <th>25%</th>\n",
       "      <td>5957.750000</td>\n",
       "      <td>0.467309</td>\n",
       "      <td>1.000000e+07</td>\n",
       "      <td>1.458059e+07</td>\n",
       "      <td>74.000000</td>\n",
       "      <td>5.700000</td>\n",
       "      <td>1995.000000</td>\n",
       "      <td>1.357211e+07</td>\n",
       "      <td>1.957982e+07</td>\n",
       "      <td>0.237111</td>\n",
       "    </tr>\n",
       "    <tr>\n",
       "      <th>50%</th>\n",
       "      <td>11259.500000</td>\n",
       "      <td>0.811387</td>\n",
       "      <td>2.500000e+07</td>\n",
       "      <td>4.641948e+07</td>\n",
       "      <td>209.000000</td>\n",
       "      <td>6.200000</td>\n",
       "      <td>2004.000000</td>\n",
       "      <td>3.039101e+07</td>\n",
       "      <td>6.329843e+07</td>\n",
       "      <td>0.467722</td>\n",
       "    </tr>\n",
       "    <tr>\n",
       "      <th>75%</th>\n",
       "      <td>38320.500000</td>\n",
       "      <td>1.388134</td>\n",
       "      <td>5.000000e+07</td>\n",
       "      <td>1.264721e+08</td>\n",
       "      <td>584.750000</td>\n",
       "      <td>6.700000</td>\n",
       "      <td>2010.000000</td>\n",
       "      <td>6.094840e+07</td>\n",
       "      <td>1.658238e+08</td>\n",
       "      <td>1.106760</td>\n",
       "    </tr>\n",
       "    <tr>\n",
       "      <th>max</th>\n",
       "      <td>417859.000000</td>\n",
       "      <td>32.985763</td>\n",
       "      <td>4.250000e+08</td>\n",
       "      <td>2.781506e+09</td>\n",
       "      <td>9767.000000</td>\n",
       "      <td>8.400000</td>\n",
       "      <td>2015.000000</td>\n",
       "      <td>4.250000e+08</td>\n",
       "      <td>2.827124e+09</td>\n",
       "      <td>881.882072</td>\n",
       "    </tr>\n",
       "  </tbody>\n",
       "</table>\n",
       "</div>"
      ],
      "text/plain": [
       "                  id   popularity        budget       revenue   vote_count  \\\n",
       "count    3794.000000  3794.000000  3.794000e+03  3.794000e+03  3794.000000   \n",
       "mean    39568.376911     1.203017  3.766178e+07  1.093568e+08   534.717712   \n",
       "std     67092.169643     1.483508  4.232636e+07  1.774161e+08   884.966281   \n",
       "min         5.000000     0.001117  7.000000e+03  2.038000e+04    10.000000   \n",
       "25%      5957.750000     0.467309  1.000000e+07  1.458059e+07    74.000000   \n",
       "50%     11259.500000     0.811387  2.500000e+07  4.641948e+07   209.000000   \n",
       "75%     38320.500000     1.388134  5.000000e+07  1.264721e+08   584.750000   \n",
       "max    417859.000000    32.985763  4.250000e+08  2.781506e+09  9767.000000   \n",
       "\n",
       "       vote_average  release_year    budget_adj   revenue_adj  \\\n",
       "count   3794.000000   3794.000000  3.794000e+03  3.794000e+03   \n",
       "mean       6.174618   2001.223511  4.478859e+07  1.391677e+08   \n",
       "std        0.792239     11.305182  4.487647e+07  2.171294e+08   \n",
       "min        2.200000   1960.000000  7.755184e+03  2.132676e+04   \n",
       "25%        5.700000   1995.000000  1.357211e+07  1.957982e+07   \n",
       "50%        6.200000   2004.000000  3.039101e+07  6.329843e+07   \n",
       "75%        6.700000   2010.000000  6.094840e+07  1.658238e+08   \n",
       "max        8.400000   2015.000000  4.250000e+08  2.827124e+09   \n",
       "\n",
       "       budget_rev_ratio  \n",
       "count       3794.000000  \n",
       "mean           3.373156  \n",
       "std           24.477057  \n",
       "min            0.000078  \n",
       "25%            0.237111  \n",
       "50%            0.467722  \n",
       "75%            1.106760  \n",
       "max          881.882072  "
      ]
     },
     "execution_count": 29,
     "metadata": {},
     "output_type": "execute_result"
    }
   ],
   "source": [
    "# Exploring the dataframe df statitically\n",
    "df.describe()"
   ]
  },
  {
   "cell_type": "markdown",
   "metadata": {},
   "source": [
    "We notice that all columns have a high maximum comapred to mean value, implying that data is right-skewed."
   ]
  },
  {
   "cell_type": "code",
   "execution_count": 30,
   "metadata": {},
   "outputs": [
    {
     "data": {
      "image/png": "[encoded data removed]",
      "text/plain": [
       "<Figure size 1080x1080 with 12 Axes>"
      ]
     },
     "metadata": {
      "needs_background": "light"
     },
     "output_type": "display_data"
    }
   ],
   "source": [
    "#Comfirming Right-skewedness in our data \n",
    "df.hist(figsize=(15,15));"
   ]
  },
  {
   "cell_type": "markdown",
   "metadata": {},
   "source": [
    "We observe right-skewedness in all values except for release_year and vote_average.\n",
    "Release_year is left skewed as number of movies produced increased with time.\n",
    "Vote_average is almost normally distributed. "
   ]
  },
  {
   "cell_type": "markdown",
   "metadata": {},
   "source": [
    "### Research Question 1: Which movies have the highest and lowest revenue? How does revenue relate to revenue categories?"
   ]
  },
  {
   "cell_type": "markdown",
   "metadata": {},
   "source": [
    "Within this question, the values we will use are adjusted revenue and budget, this will ensure a more fair comparison between variables."
   ]
  },
  {
   "cell_type": "code",
   "execution_count": 31,
   "metadata": {},
   "outputs": [],
   "source": [
    "#setting index into original_title\n",
    "df.set_index('original_title', inplace=True)"
   ]
  },
  {
   "cell_type": "code",
   "execution_count": 32,
   "metadata": {},
   "outputs": [
    {
     "data": {
      "text/html": [
       "<div>\n",
       "<style scoped>\n",
       "    .dataframe tbody tr th:only-of-type {\n",
       "        vertical-align: middle;\n",
       "    }\n",
       "\n",
       "    .dataframe tbody tr th {\n",
       "        vertical-align: top;\n",
       "    }\n",
       "\n",
       "    .dataframe thead th {\n",
       "        text-align: right;\n",
       "    }\n",
       "</style>\n",
       "<table border=\"1\" class=\"dataframe\">\n",
       "  <thead>\n",
       "    <tr style=\"text-align: right;\">\n",
       "      <th></th>\n",
       "      <th>id</th>\n",
       "      <th>popularity</th>\n",
       "      <th>budget</th>\n",
       "      <th>revenue</th>\n",
       "      <th>genres</th>\n",
       "      <th>vote_count</th>\n",
       "      <th>vote_average</th>\n",
       "      <th>release_year</th>\n",
       "      <th>budget_adj</th>\n",
       "      <th>revenue_adj</th>\n",
       "      <th>budget_rev_ratio</th>\n",
       "    </tr>\n",
       "    <tr>\n",
       "      <th>original_title</th>\n",
       "      <th></th>\n",
       "      <th></th>\n",
       "      <th></th>\n",
       "      <th></th>\n",
       "      <th></th>\n",
       "      <th></th>\n",
       "      <th></th>\n",
       "      <th></th>\n",
       "      <th></th>\n",
       "      <th></th>\n",
       "      <th></th>\n",
       "    </tr>\n",
       "  </thead>\n",
       "  <tbody>\n",
       "    <tr>\n",
       "      <th>Avatar</th>\n",
       "      <td>19995</td>\n",
       "      <td>9.432768</td>\n",
       "      <td>237000000.0</td>\n",
       "      <td>2.781506e+09</td>\n",
       "      <td>Action</td>\n",
       "      <td>8458</td>\n",
       "      <td>7.1</td>\n",
       "      <td>2009</td>\n",
       "      <td>2.408869e+08</td>\n",
       "      <td>2.827124e+09</td>\n",
       "      <td>0.085206</td>\n",
       "    </tr>\n",
       "    <tr>\n",
       "      <th>Star Wars</th>\n",
       "      <td>11</td>\n",
       "      <td>12.037933</td>\n",
       "      <td>11000000.0</td>\n",
       "      <td>7.753980e+08</td>\n",
       "      <td>Adventure</td>\n",
       "      <td>4428</td>\n",
       "      <td>7.9</td>\n",
       "      <td>1977</td>\n",
       "      <td>3.957559e+07</td>\n",
       "      <td>2.789712e+09</td>\n",
       "      <td>0.014186</td>\n",
       "    </tr>\n",
       "    <tr>\n",
       "      <th>Titanic</th>\n",
       "      <td>597</td>\n",
       "      <td>4.355219</td>\n",
       "      <td>200000000.0</td>\n",
       "      <td>1.845034e+09</td>\n",
       "      <td>Drama</td>\n",
       "      <td>4654</td>\n",
       "      <td>7.3</td>\n",
       "      <td>1997</td>\n",
       "      <td>2.716921e+08</td>\n",
       "      <td>2.506406e+09</td>\n",
       "      <td>0.108399</td>\n",
       "    </tr>\n",
       "    <tr>\n",
       "      <th>The Exorcist</th>\n",
       "      <td>9552</td>\n",
       "      <td>2.010733</td>\n",
       "      <td>8000000.0</td>\n",
       "      <td>4.413061e+08</td>\n",
       "      <td>Drama</td>\n",
       "      <td>1113</td>\n",
       "      <td>7.2</td>\n",
       "      <td>1973</td>\n",
       "      <td>3.928928e+07</td>\n",
       "      <td>2.167325e+09</td>\n",
       "      <td>0.018128</td>\n",
       "    </tr>\n",
       "    <tr>\n",
       "      <th>Jaws</th>\n",
       "      <td>578</td>\n",
       "      <td>2.563191</td>\n",
       "      <td>7000000.0</td>\n",
       "      <td>4.706540e+08</td>\n",
       "      <td>Horror</td>\n",
       "      <td>1415</td>\n",
       "      <td>7.3</td>\n",
       "      <td>1975</td>\n",
       "      <td>2.836275e+07</td>\n",
       "      <td>1.907006e+09</td>\n",
       "      <td>0.014873</td>\n",
       "    </tr>\n",
       "    <tr>\n",
       "      <th>Star Wars: The Force Awakens</th>\n",
       "      <td>140607</td>\n",
       "      <td>11.173104</td>\n",
       "      <td>200000000.0</td>\n",
       "      <td>2.068178e+09</td>\n",
       "      <td>Action</td>\n",
       "      <td>5292</td>\n",
       "      <td>7.5</td>\n",
       "      <td>2015</td>\n",
       "      <td>1.839999e+08</td>\n",
       "      <td>1.902723e+09</td>\n",
       "      <td>0.096703</td>\n",
       "    </tr>\n",
       "    <tr>\n",
       "      <th>E.T. the Extra-Terrestrial</th>\n",
       "      <td>601</td>\n",
       "      <td>2.900556</td>\n",
       "      <td>10500000.0</td>\n",
       "      <td>7.929106e+08</td>\n",
       "      <td>Science Fiction</td>\n",
       "      <td>1830</td>\n",
       "      <td>7.2</td>\n",
       "      <td>1982</td>\n",
       "      <td>2.372625e+07</td>\n",
       "      <td>1.791694e+09</td>\n",
       "      <td>0.013242</td>\n",
       "    </tr>\n",
       "    <tr>\n",
       "      <th>The Net</th>\n",
       "      <td>1642</td>\n",
       "      <td>1.136610</td>\n",
       "      <td>22000000.0</td>\n",
       "      <td>1.106280e+09</td>\n",
       "      <td>Crime</td>\n",
       "      <td>201</td>\n",
       "      <td>5.6</td>\n",
       "      <td>1995</td>\n",
       "      <td>3.148127e+07</td>\n",
       "      <td>1.583050e+09</td>\n",
       "      <td>0.019886</td>\n",
       "    </tr>\n",
       "    <tr>\n",
       "      <th>One Hundred and One Dalmatians</th>\n",
       "      <td>12230</td>\n",
       "      <td>2.631987</td>\n",
       "      <td>4000000.0</td>\n",
       "      <td>2.158800e+08</td>\n",
       "      <td>Adventure</td>\n",
       "      <td>913</td>\n",
       "      <td>6.6</td>\n",
       "      <td>1961</td>\n",
       "      <td>2.917944e+07</td>\n",
       "      <td>1.574815e+09</td>\n",
       "      <td>0.018529</td>\n",
       "    </tr>\n",
       "    <tr>\n",
       "      <th>The Avengers</th>\n",
       "      <td>24428</td>\n",
       "      <td>7.637767</td>\n",
       "      <td>220000000.0</td>\n",
       "      <td>1.519558e+09</td>\n",
       "      <td>Science Fiction</td>\n",
       "      <td>8903</td>\n",
       "      <td>7.3</td>\n",
       "      <td>2012</td>\n",
       "      <td>2.089437e+08</td>\n",
       "      <td>1.443191e+09</td>\n",
       "      <td>0.144779</td>\n",
       "    </tr>\n",
       "    <tr>\n",
       "      <th>The Empire Strikes Back</th>\n",
       "      <td>1891</td>\n",
       "      <td>5.488441</td>\n",
       "      <td>18000000.0</td>\n",
       "      <td>5.384000e+08</td>\n",
       "      <td>Adventure</td>\n",
       "      <td>3954</td>\n",
       "      <td>8.0</td>\n",
       "      <td>1980</td>\n",
       "      <td>4.762866e+07</td>\n",
       "      <td>1.424626e+09</td>\n",
       "      <td>0.033432</td>\n",
       "    </tr>\n",
       "    <tr>\n",
       "      <th>Jurassic World</th>\n",
       "      <td>135397</td>\n",
       "      <td>32.985763</td>\n",
       "      <td>150000000.0</td>\n",
       "      <td>1.513529e+09</td>\n",
       "      <td>Action</td>\n",
       "      <td>5562</td>\n",
       "      <td>6.5</td>\n",
       "      <td>2015</td>\n",
       "      <td>1.379999e+08</td>\n",
       "      <td>1.392446e+09</td>\n",
       "      <td>0.099106</td>\n",
       "    </tr>\n",
       "    <tr>\n",
       "      <th>Jurassic Park</th>\n",
       "      <td>329</td>\n",
       "      <td>2.204926</td>\n",
       "      <td>63000000.0</td>\n",
       "      <td>9.201000e+08</td>\n",
       "      <td>Adventure</td>\n",
       "      <td>3169</td>\n",
       "      <td>7.4</td>\n",
       "      <td>1993</td>\n",
       "      <td>9.509661e+07</td>\n",
       "      <td>1.388863e+09</td>\n",
       "      <td>0.068471</td>\n",
       "    </tr>\n",
       "    <tr>\n",
       "      <th>Furious 7</th>\n",
       "      <td>168259</td>\n",
       "      <td>9.335014</td>\n",
       "      <td>190000000.0</td>\n",
       "      <td>1.506249e+09</td>\n",
       "      <td>Action</td>\n",
       "      <td>2947</td>\n",
       "      <td>7.3</td>\n",
       "      <td>2015</td>\n",
       "      <td>1.747999e+08</td>\n",
       "      <td>1.385749e+09</td>\n",
       "      <td>0.126141</td>\n",
       "    </tr>\n",
       "    <tr>\n",
       "      <th>The Jungle Book</th>\n",
       "      <td>9325</td>\n",
       "      <td>2.550704</td>\n",
       "      <td>4000000.0</td>\n",
       "      <td>2.058436e+08</td>\n",
       "      <td>Family</td>\n",
       "      <td>928</td>\n",
       "      <td>7.0</td>\n",
       "      <td>1967</td>\n",
       "      <td>2.614705e+07</td>\n",
       "      <td>1.345551e+09</td>\n",
       "      <td>0.019432</td>\n",
       "    </tr>\n",
       "    <tr>\n",
       "      <th>The Lord of the Rings: The Return of the King</th>\n",
       "      <td>122</td>\n",
       "      <td>7.122455</td>\n",
       "      <td>94000000.0</td>\n",
       "      <td>1.118889e+09</td>\n",
       "      <td>Adventure</td>\n",
       "      <td>5636</td>\n",
       "      <td>7.9</td>\n",
       "      <td>2003</td>\n",
       "      <td>1.114231e+08</td>\n",
       "      <td>1.326278e+09</td>\n",
       "      <td>0.084012</td>\n",
       "    </tr>\n",
       "    <tr>\n",
       "      <th>Avengers: Age of Ultron</th>\n",
       "      <td>99861</td>\n",
       "      <td>5.944927</td>\n",
       "      <td>280000000.0</td>\n",
       "      <td>1.405036e+09</td>\n",
       "      <td>Action</td>\n",
       "      <td>4304</td>\n",
       "      <td>7.4</td>\n",
       "      <td>2015</td>\n",
       "      <td>2.575999e+08</td>\n",
       "      <td>1.292632e+09</td>\n",
       "      <td>0.199283</td>\n",
       "    </tr>\n",
       "    <tr>\n",
       "      <th>Harry Potter and the Deathly Hallows: Part 2</th>\n",
       "      <td>12445</td>\n",
       "      <td>5.711315</td>\n",
       "      <td>125000000.0</td>\n",
       "      <td>1.327818e+09</td>\n",
       "      <td>Adventure</td>\n",
       "      <td>3750</td>\n",
       "      <td>7.7</td>\n",
       "      <td>2011</td>\n",
       "      <td>1.211748e+08</td>\n",
       "      <td>1.287184e+09</td>\n",
       "      <td>0.094139</td>\n",
       "    </tr>\n",
       "    <tr>\n",
       "      <th>The Godfather</th>\n",
       "      <td>238</td>\n",
       "      <td>5.738034</td>\n",
       "      <td>6000000.0</td>\n",
       "      <td>2.450664e+08</td>\n",
       "      <td>Drama</td>\n",
       "      <td>3970</td>\n",
       "      <td>8.3</td>\n",
       "      <td>1972</td>\n",
       "      <td>3.128737e+07</td>\n",
       "      <td>1.277914e+09</td>\n",
       "      <td>0.024483</td>\n",
       "    </tr>\n",
       "    <tr>\n",
       "      <th>Return of the Jedi</th>\n",
       "      <td>1892</td>\n",
       "      <td>4.828854</td>\n",
       "      <td>32350000.0</td>\n",
       "      <td>5.727000e+08</td>\n",
       "      <td>Adventure</td>\n",
       "      <td>3101</td>\n",
       "      <td>7.8</td>\n",
       "      <td>1983</td>\n",
       "      <td>7.082424e+07</td>\n",
       "      <td>1.253819e+09</td>\n",
       "      <td>0.056487</td>\n",
       "    </tr>\n",
       "  </tbody>\n",
       "</table>\n",
       "</div>"
      ],
      "text/plain": [
       "                                                   id  popularity  \\\n",
       "original_title                                                      \n",
       "Avatar                                          19995    9.432768   \n",
       "Star Wars                                          11   12.037933   \n",
       "Titanic                                           597    4.355219   \n",
       "The Exorcist                                     9552    2.010733   \n",
       "Jaws                                              578    2.563191   \n",
       "Star Wars: The Force Awakens                   140607   11.173104   \n",
       "E.T. the Extra-Terrestrial                        601    2.900556   \n",
       "The Net                                          1642    1.136610   \n",
       "One Hundred and One Dalmatians                  12230    2.631987   \n",
       "The Avengers                                    24428    7.637767   \n",
       "The Empire Strikes Back                          1891    5.488441   \n",
       "Jurassic World                                 135397   32.985763   \n",
       "Jurassic Park                                     329    2.204926   \n",
       "Furious 7                                      168259    9.335014   \n",
       "The Jungle Book                                  9325    2.550704   \n",
       "The Lord of the Rings: The Return of the King     122    7.122455   \n",
       "Avengers: Age of Ultron                         99861    5.944927   \n",
       "Harry Potter and the Deathly Hallows: Part 2    12445    5.711315   \n",
       "The Godfather                                     238    5.738034   \n",
       "Return of the Jedi                               1892    4.828854   \n",
       "\n",
       "                                                    budget       revenue  \\\n",
       "original_title                                                             \n",
       "Avatar                                         237000000.0  2.781506e+09   \n",
       "Star Wars                                       11000000.0  7.753980e+08   \n",
       "Titanic                                        200000000.0  1.845034e+09   \n",
       "The Exorcist                                     8000000.0  4.413061e+08   \n",
       "Jaws                                             7000000.0  4.706540e+08   \n",
       "Star Wars: The Force Awakens                   200000000.0  2.068178e+09   \n",
       "E.T. the Extra-Terrestrial                      10500000.0  7.929106e+08   \n",
       "The Net                                         22000000.0  1.106280e+09   \n",
       "One Hundred and One Dalmatians                   4000000.0  2.158800e+08   \n",
       "The Avengers                                   220000000.0  1.519558e+09   \n",
       "The Empire Strikes Back                         18000000.0  5.384000e+08   \n",
       "Jurassic World                                 150000000.0  1.513529e+09   \n",
       "Jurassic Park                                   63000000.0  9.201000e+08   \n",
       "Furious 7                                      190000000.0  1.506249e+09   \n",
       "The Jungle Book                                  4000000.0  2.058436e+08   \n",
       "The Lord of the Rings: The Return of the King   94000000.0  1.118889e+09   \n",
       "Avengers: Age of Ultron                        280000000.0  1.405036e+09   \n",
       "Harry Potter and the Deathly Hallows: Part 2   125000000.0  1.327818e+09   \n",
       "The Godfather                                    6000000.0  2.450664e+08   \n",
       "Return of the Jedi                              32350000.0  5.727000e+08   \n",
       "\n",
       "                                                        genres  vote_count  \\\n",
       "original_title                                                               \n",
       "Avatar                                                  Action        8458   \n",
       "Star Wars                                            Adventure        4428   \n",
       "Titanic                                                  Drama        4654   \n",
       "The Exorcist                                             Drama        1113   \n",
       "Jaws                                                    Horror        1415   \n",
       "Star Wars: The Force Awakens                            Action        5292   \n",
       "E.T. the Extra-Terrestrial                     Science Fiction        1830   \n",
       "The Net                                                  Crime         201   \n",
       "One Hundred and One Dalmatians                       Adventure         913   \n",
       "The Avengers                                   Science Fiction        8903   \n",
       "The Empire Strikes Back                              Adventure        3954   \n",
       "Jurassic World                                          Action        5562   \n",
       "Jurassic Park                                        Adventure        3169   \n",
       "Furious 7                                               Action        2947   \n",
       "The Jungle Book                                         Family         928   \n",
       "The Lord of the Rings: The Return of the King        Adventure        5636   \n",
       "Avengers: Age of Ultron                                 Action        4304   \n",
       "Harry Potter and the Deathly Hallows: Part 2         Adventure        3750   \n",
       "The Godfather                                            Drama        3970   \n",
       "Return of the Jedi                                   Adventure        3101   \n",
       "\n",
       "                                               vote_average  release_year  \\\n",
       "original_title                                                              \n",
       "Avatar                                                  7.1          2009   \n",
       "Star Wars                                               7.9          1977   \n",
       "Titanic                                                 7.3          1997   \n",
       "The Exorcist                                            7.2          1973   \n",
       "Jaws                                                    7.3          1975   \n",
       "Star Wars: The Force Awakens                            7.5          2015   \n",
       "E.T. the Extra-Terrestrial                              7.2          1982   \n",
       "The Net                                                 5.6          1995   \n",
       "One Hundred and One Dalmatians                          6.6          1961   \n",
       "The Avengers                                            7.3          2012   \n",
       "The Empire Strikes Back                                 8.0          1980   \n",
       "Jurassic World                                          6.5          2015   \n",
       "Jurassic Park                                           7.4          1993   \n",
       "Furious 7                                               7.3          2015   \n",
       "The Jungle Book                                         7.0          1967   \n",
       "The Lord of the Rings: The Return of the King           7.9          2003   \n",
       "Avengers: Age of Ultron                                 7.4          2015   \n",
       "Harry Potter and the Deathly Hallows: Part 2            7.7          2011   \n",
       "The Godfather                                           8.3          1972   \n",
       "Return of the Jedi                                      7.8          1983   \n",
       "\n",
       "                                                 budget_adj   revenue_adj  \\\n",
       "original_title                                                              \n",
       "Avatar                                         2.408869e+08  2.827124e+09   \n",
       "Star Wars                                      3.957559e+07  2.789712e+09   \n",
       "Titanic                                        2.716921e+08  2.506406e+09   \n",
       "The Exorcist                                   3.928928e+07  2.167325e+09   \n",
       "Jaws                                           2.836275e+07  1.907006e+09   \n",
       "Star Wars: The Force Awakens                   1.839999e+08  1.902723e+09   \n",
       "E.T. the Extra-Terrestrial                     2.372625e+07  1.791694e+09   \n",
       "The Net                                        3.148127e+07  1.583050e+09   \n",
       "One Hundred and One Dalmatians                 2.917944e+07  1.574815e+09   \n",
       "The Avengers                                   2.089437e+08  1.443191e+09   \n",
       "The Empire Strikes Back                        4.762866e+07  1.424626e+09   \n",
       "Jurassic World                                 1.379999e+08  1.392446e+09   \n",
       "Jurassic Park                                  9.509661e+07  1.388863e+09   \n",
       "Furious 7                                      1.747999e+08  1.385749e+09   \n",
       "The Jungle Book                                2.614705e+07  1.345551e+09   \n",
       "The Lord of the Rings: The Return of the King  1.114231e+08  1.326278e+09   \n",
       "Avengers: Age of Ultron                        2.575999e+08  1.292632e+09   \n",
       "Harry Potter and the Deathly Hallows: Part 2   1.211748e+08  1.287184e+09   \n",
       "The Godfather                                  3.128737e+07  1.277914e+09   \n",
       "Return of the Jedi                             7.082424e+07  1.253819e+09   \n",
       "\n",
       "                                               budget_rev_ratio  \n",
       "original_title                                                   \n",
       "Avatar                                                 0.085206  \n",
       "Star Wars                                              0.014186  \n",
       "Titanic                                                0.108399  \n",
       "The Exorcist                                           0.018128  \n",
       "Jaws                                                   0.014873  \n",
       "Star Wars: The Force Awakens                           0.096703  \n",
       "E.T. the Extra-Terrestrial                             0.013242  \n",
       "The Net                                                0.019886  \n",
       "One Hundred and One Dalmatians                         0.018529  \n",
       "The Avengers                                           0.144779  \n",
       "The Empire Strikes Back                                0.033432  \n",
       "Jurassic World                                         0.099106  \n",
       "Jurassic Park                                          0.068471  \n",
       "Furious 7                                              0.126141  \n",
       "The Jungle Book                                        0.019432  \n",
       "The Lord of the Rings: The Return of the King          0.084012  \n",
       "Avengers: Age of Ultron                                0.199283  \n",
       "Harry Potter and the Deathly Hallows: Part 2           0.094139  \n",
       "The Godfather                                          0.024483  \n",
       "Return of the Jedi                                     0.056487  "
      ]
     },
     "execution_count": 32,
     "metadata": {},
     "output_type": "execute_result"
    }
   ],
   "source": [
    "#exploring the movies with the highest revenue(adjusted)\n",
    "top_20=df.nlargest(20,'revenue_adj')\n",
    "top_20"
   ]
  },
  {
   "cell_type": "code",
   "execution_count": 33,
   "metadata": {},
   "outputs": [
    {
     "data": {
      "text/html": [
       "<div>\n",
       "<style scoped>\n",
       "    .dataframe tbody tr th:only-of-type {\n",
       "        vertical-align: middle;\n",
       "    }\n",
       "\n",
       "    .dataframe tbody tr th {\n",
       "        vertical-align: top;\n",
       "    }\n",
       "\n",
       "    .dataframe thead th {\n",
       "        text-align: right;\n",
       "    }\n",
       "</style>\n",
       "<table border=\"1\" class=\"dataframe\">\n",
       "  <thead>\n",
       "    <tr style=\"text-align: right;\">\n",
       "      <th></th>\n",
       "      <th>id</th>\n",
       "      <th>popularity</th>\n",
       "      <th>budget</th>\n",
       "      <th>revenue</th>\n",
       "      <th>genres</th>\n",
       "      <th>vote_count</th>\n",
       "      <th>vote_average</th>\n",
       "      <th>release_year</th>\n",
       "      <th>budget_adj</th>\n",
       "      <th>revenue_adj</th>\n",
       "      <th>budget_rev_ratio</th>\n",
       "    </tr>\n",
       "    <tr>\n",
       "      <th>original_title</th>\n",
       "      <th></th>\n",
       "      <th></th>\n",
       "      <th></th>\n",
       "      <th></th>\n",
       "      <th></th>\n",
       "      <th></th>\n",
       "      <th></th>\n",
       "      <th></th>\n",
       "      <th></th>\n",
       "      <th></th>\n",
       "      <th></th>\n",
       "    </tr>\n",
       "  </thead>\n",
       "  <tbody>\n",
       "    <tr>\n",
       "      <th>The Divide</th>\n",
       "      <td>38541</td>\n",
       "      <td>0.189663</td>\n",
       "      <td>3000000.0</td>\n",
       "      <td>22000.0</td>\n",
       "      <td>Science Fiction</td>\n",
       "      <td>86</td>\n",
       "      <td>5.6</td>\n",
       "      <td>2011</td>\n",
       "      <td>2.908194e+06</td>\n",
       "      <td>21326.756937</td>\n",
       "      <td>136.363636</td>\n",
       "    </tr>\n",
       "    <tr>\n",
       "      <th>The Good Night</th>\n",
       "      <td>13501</td>\n",
       "      <td>0.323370</td>\n",
       "      <td>15000000.0</td>\n",
       "      <td>20380.0</td>\n",
       "      <td>Comedy</td>\n",
       "      <td>16</td>\n",
       "      <td>5.5</td>\n",
       "      <td>2007</td>\n",
       "      <td>1.577503e+07</td>\n",
       "      <td>21433.005714</td>\n",
       "      <td>736.015702</td>\n",
       "    </tr>\n",
       "    <tr>\n",
       "      <th>Jimmy P.</th>\n",
       "      <td>160768</td>\n",
       "      <td>0.457768</td>\n",
       "      <td>10000000.0</td>\n",
       "      <td>30283.0</td>\n",
       "      <td>Drama</td>\n",
       "      <td>18</td>\n",
       "      <td>4.6</td>\n",
       "      <td>2013</td>\n",
       "      <td>9.360334e+06</td>\n",
       "      <td>28345.898021</td>\n",
       "      <td>330.218274</td>\n",
       "    </tr>\n",
       "    <tr>\n",
       "      <th>Maniac</th>\n",
       "      <td>103620</td>\n",
       "      <td>0.913638</td>\n",
       "      <td>6000000.0</td>\n",
       "      <td>31081.0</td>\n",
       "      <td>Horror</td>\n",
       "      <td>189</td>\n",
       "      <td>5.8</td>\n",
       "      <td>2012</td>\n",
       "      <td>5.698466e+06</td>\n",
       "      <td>29519.002009</td>\n",
       "      <td>193.043982</td>\n",
       "    </tr>\n",
       "    <tr>\n",
       "      <th>Song One</th>\n",
       "      <td>244783</td>\n",
       "      <td>0.407983</td>\n",
       "      <td>6000000.0</td>\n",
       "      <td>32251.0</td>\n",
       "      <td>Drama</td>\n",
       "      <td>58</td>\n",
       "      <td>5.7</td>\n",
       "      <td>2014</td>\n",
       "      <td>5.526546e+06</td>\n",
       "      <td>29706.107478</td>\n",
       "      <td>186.040743</td>\n",
       "    </tr>\n",
       "    <tr>\n",
       "      <th>L!fe Happens</th>\n",
       "      <td>91070</td>\n",
       "      <td>0.372627</td>\n",
       "      <td>930000.0</td>\n",
       "      <td>30905.0</td>\n",
       "      <td>Comedy</td>\n",
       "      <td>47</td>\n",
       "      <td>5.2</td>\n",
       "      <td>2011</td>\n",
       "      <td>9.015402e+05</td>\n",
       "      <td>29959.246506</td>\n",
       "      <td>30.092218</td>\n",
       "    </tr>\n",
       "    <tr>\n",
       "      <th>The Tracey Fragments</th>\n",
       "      <td>16725</td>\n",
       "      <td>0.144186</td>\n",
       "      <td>700000.0</td>\n",
       "      <td>31576.0</td>\n",
       "      <td>Drama</td>\n",
       "      <td>17</td>\n",
       "      <td>5.9</td>\n",
       "      <td>2007</td>\n",
       "      <td>7.361680e+05</td>\n",
       "      <td>33207.487165</td>\n",
       "      <td>22.168736</td>\n",
       "    </tr>\n",
       "    <tr>\n",
       "      <th>Stake Land</th>\n",
       "      <td>52015</td>\n",
       "      <td>0.259600</td>\n",
       "      <td>650000.0</td>\n",
       "      <td>33245.0</td>\n",
       "      <td>Drama</td>\n",
       "      <td>143</td>\n",
       "      <td>6.2</td>\n",
       "      <td>2010</td>\n",
       "      <td>6.500000e+05</td>\n",
       "      <td>33245.000000</td>\n",
       "      <td>19.551812</td>\n",
       "    </tr>\n",
       "    <tr>\n",
       "      <th>The Boondock Saints</th>\n",
       "      <td>8374</td>\n",
       "      <td>0.992316</td>\n",
       "      <td>6000000.0</td>\n",
       "      <td>30471.0</td>\n",
       "      <td>Action</td>\n",
       "      <td>521</td>\n",
       "      <td>7.1</td>\n",
       "      <td>1999</td>\n",
       "      <td>7.854317e+06</td>\n",
       "      <td>39888.149289</td>\n",
       "      <td>196.908536</td>\n",
       "    </tr>\n",
       "    <tr>\n",
       "      <th>Rundskop</th>\n",
       "      <td>63310</td>\n",
       "      <td>0.644723</td>\n",
       "      <td>2000000.0</td>\n",
       "      <td>42070.0</td>\n",
       "      <td>Crime</td>\n",
       "      <td>56</td>\n",
       "      <td>7.5</td>\n",
       "      <td>2011</td>\n",
       "      <td>1.938796e+06</td>\n",
       "      <td>40782.575652</td>\n",
       "      <td>47.539815</td>\n",
       "    </tr>\n",
       "    <tr>\n",
       "      <th>Lost River</th>\n",
       "      <td>167810</td>\n",
       "      <td>0.570744</td>\n",
       "      <td>2000000.0</td>\n",
       "      <td>45431.0</td>\n",
       "      <td>Fantasy</td>\n",
       "      <td>129</td>\n",
       "      <td>5.7</td>\n",
       "      <td>2015</td>\n",
       "      <td>1.839999e+06</td>\n",
       "      <td>41796.501610</td>\n",
       "      <td>44.022804</td>\n",
       "    </tr>\n",
       "    <tr>\n",
       "      <th>Decoding Annie Parker</th>\n",
       "      <td>177047</td>\n",
       "      <td>0.688179</td>\n",
       "      <td>2000000.0</td>\n",
       "      <td>48390.0</td>\n",
       "      <td>Drama</td>\n",
       "      <td>23</td>\n",
       "      <td>5.2</td>\n",
       "      <td>2014</td>\n",
       "      <td>1.842182e+06</td>\n",
       "      <td>44571.595947</td>\n",
       "      <td>41.330853</td>\n",
       "    </tr>\n",
       "    <tr>\n",
       "      <th>Margaret</th>\n",
       "      <td>44754</td>\n",
       "      <td>0.395082</td>\n",
       "      <td>14000000.0</td>\n",
       "      <td>46495.0</td>\n",
       "      <td>Drama</td>\n",
       "      <td>35</td>\n",
       "      <td>5.9</td>\n",
       "      <td>2011</td>\n",
       "      <td>1.357157e+07</td>\n",
       "      <td>45072.161990</td>\n",
       "      <td>301.107646</td>\n",
       "    </tr>\n",
       "    <tr>\n",
       "      <th>Defendor</th>\n",
       "      <td>34769</td>\n",
       "      <td>0.476687</td>\n",
       "      <td>3500000.0</td>\n",
       "      <td>44462.0</td>\n",
       "      <td>Drama</td>\n",
       "      <td>85</td>\n",
       "      <td>6.3</td>\n",
       "      <td>2009</td>\n",
       "      <td>3.557402e+06</td>\n",
       "      <td>45191.196102</td>\n",
       "      <td>78.718906</td>\n",
       "    </tr>\n",
       "    <tr>\n",
       "      <th>Heist</th>\n",
       "      <td>336004</td>\n",
       "      <td>1.449072</td>\n",
       "      <td>8900000.0</td>\n",
       "      <td>50136.0</td>\n",
       "      <td>Crime</td>\n",
       "      <td>233</td>\n",
       "      <td>5.4</td>\n",
       "      <td>2015</td>\n",
       "      <td>8.187996e+06</td>\n",
       "      <td>46125.099705</td>\n",
       "      <td>177.517153</td>\n",
       "    </tr>\n",
       "    <tr>\n",
       "      <th>Ca$h</th>\n",
       "      <td>27004</td>\n",
       "      <td>0.655955</td>\n",
       "      <td>7000000.0</td>\n",
       "      <td>46488.0</td>\n",
       "      <td>Crime</td>\n",
       "      <td>33</td>\n",
       "      <td>5.8</td>\n",
       "      <td>2010</td>\n",
       "      <td>7.000000e+06</td>\n",
       "      <td>46488.000000</td>\n",
       "      <td>150.576493</td>\n",
       "    </tr>\n",
       "    <tr>\n",
       "      <th>December Boys</th>\n",
       "      <td>4629</td>\n",
       "      <td>0.208459</td>\n",
       "      <td>4000000.0</td>\n",
       "      <td>46474.0</td>\n",
       "      <td>Drama</td>\n",
       "      <td>42</td>\n",
       "      <td>5.8</td>\n",
       "      <td>2007</td>\n",
       "      <td>4.206674e+06</td>\n",
       "      <td>48875.245709</td>\n",
       "      <td>86.069630</td>\n",
       "    </tr>\n",
       "    <tr>\n",
       "      <th>Aloft</th>\n",
       "      <td>251321</td>\n",
       "      <td>0.191040</td>\n",
       "      <td>8000000.0</td>\n",
       "      <td>53086.0</td>\n",
       "      <td>Drama</td>\n",
       "      <td>20</td>\n",
       "      <td>5.1</td>\n",
       "      <td>2014</td>\n",
       "      <td>7.368728e+06</td>\n",
       "      <td>48897.039521</td>\n",
       "      <td>150.698866</td>\n",
       "    </tr>\n",
       "    <tr>\n",
       "      <th>Hatchet II</th>\n",
       "      <td>43919</td>\n",
       "      <td>0.296660</td>\n",
       "      <td>2500000.0</td>\n",
       "      <td>52604.0</td>\n",
       "      <td>Horror</td>\n",
       "      <td>42</td>\n",
       "      <td>5.1</td>\n",
       "      <td>2010</td>\n",
       "      <td>2.500000e+06</td>\n",
       "      <td>52604.000000</td>\n",
       "      <td>47.524903</td>\n",
       "    </tr>\n",
       "    <tr>\n",
       "      <th>The Canyons</th>\n",
       "      <td>109729</td>\n",
       "      <td>0.510295</td>\n",
       "      <td>250000.0</td>\n",
       "      <td>56825.0</td>\n",
       "      <td>Thriller</td>\n",
       "      <td>41</td>\n",
       "      <td>4.4</td>\n",
       "      <td>2013</td>\n",
       "      <td>2.340083e+05</td>\n",
       "      <td>53190.095269</td>\n",
       "      <td>4.399472</td>\n",
       "    </tr>\n",
       "  </tbody>\n",
       "</table>\n",
       "</div>"
      ],
      "text/plain": [
       "                           id  popularity      budget  revenue  \\\n",
       "original_title                                                   \n",
       "The Divide              38541    0.189663   3000000.0  22000.0   \n",
       "The Good Night          13501    0.323370  15000000.0  20380.0   \n",
       "Jimmy P.               160768    0.457768  10000000.0  30283.0   \n",
       "Maniac                 103620    0.913638   6000000.0  31081.0   \n",
       "Song One               244783    0.407983   6000000.0  32251.0   \n",
       "L!fe Happens            91070    0.372627    930000.0  30905.0   \n",
       "The Tracey Fragments    16725    0.144186    700000.0  31576.0   \n",
       "Stake Land              52015    0.259600    650000.0  33245.0   \n",
       "The Boondock Saints      8374    0.992316   6000000.0  30471.0   \n",
       "Rundskop                63310    0.644723   2000000.0  42070.0   \n",
       "Lost River             167810    0.570744   2000000.0  45431.0   \n",
       "Decoding Annie Parker  177047    0.688179   2000000.0  48390.0   \n",
       "Margaret                44754    0.395082  14000000.0  46495.0   \n",
       "Defendor                34769    0.476687   3500000.0  44462.0   \n",
       "Heist                  336004    1.449072   8900000.0  50136.0   \n",
       "Ca$h                    27004    0.655955   7000000.0  46488.0   \n",
       "December Boys            4629    0.208459   4000000.0  46474.0   \n",
       "Aloft                  251321    0.191040   8000000.0  53086.0   \n",
       "Hatchet II              43919    0.296660   2500000.0  52604.0   \n",
       "The Canyons            109729    0.510295    250000.0  56825.0   \n",
       "\n",
       "                                genres  vote_count  vote_average  \\\n",
       "original_title                                                     \n",
       "The Divide             Science Fiction          86           5.6   \n",
       "The Good Night                  Comedy          16           5.5   \n",
       "Jimmy P.                         Drama          18           4.6   \n",
       "Maniac                          Horror         189           5.8   \n",
       "Song One                         Drama          58           5.7   \n",
       "L!fe Happens                    Comedy          47           5.2   \n",
       "The Tracey Fragments             Drama          17           5.9   \n",
       "Stake Land                       Drama         143           6.2   \n",
       "The Boondock Saints             Action         521           7.1   \n",
       "Rundskop                         Crime          56           7.5   \n",
       "Lost River                     Fantasy         129           5.7   \n",
       "Decoding Annie Parker            Drama          23           5.2   \n",
       "Margaret                         Drama          35           5.9   \n",
       "Defendor                         Drama          85           6.3   \n",
       "Heist                            Crime         233           5.4   \n",
       "Ca$h                             Crime          33           5.8   \n",
       "December Boys                    Drama          42           5.8   \n",
       "Aloft                            Drama          20           5.1   \n",
       "Hatchet II                      Horror          42           5.1   \n",
       "The Canyons                   Thriller          41           4.4   \n",
       "\n",
       "                       release_year    budget_adj   revenue_adj  \\\n",
       "original_title                                                    \n",
       "The Divide                     2011  2.908194e+06  21326.756937   \n",
       "The Good Night                 2007  1.577503e+07  21433.005714   \n",
       "Jimmy P.                       2013  9.360334e+06  28345.898021   \n",
       "Maniac                         2012  5.698466e+06  29519.002009   \n",
       "Song One                       2014  5.526546e+06  29706.107478   \n",
       "L!fe Happens                   2011  9.015402e+05  29959.246506   \n",
       "The Tracey Fragments           2007  7.361680e+05  33207.487165   \n",
       "Stake Land                     2010  6.500000e+05  33245.000000   \n",
       "The Boondock Saints            1999  7.854317e+06  39888.149289   \n",
       "Rundskop                       2011  1.938796e+06  40782.575652   \n",
       "Lost River                     2015  1.839999e+06  41796.501610   \n",
       "Decoding Annie Parker          2014  1.842182e+06  44571.595947   \n",
       "Margaret                       2011  1.357157e+07  45072.161990   \n",
       "Defendor                       2009  3.557402e+06  45191.196102   \n",
       "Heist                          2015  8.187996e+06  46125.099705   \n",
       "Ca$h                           2010  7.000000e+06  46488.000000   \n",
       "December Boys                  2007  4.206674e+06  48875.245709   \n",
       "Aloft                          2014  7.368728e+06  48897.039521   \n",
       "Hatchet II                     2010  2.500000e+06  52604.000000   \n",
       "The Canyons                    2013  2.340083e+05  53190.095269   \n",
       "\n",
       "                       budget_rev_ratio  \n",
       "original_title                           \n",
       "The Divide                   136.363636  \n",
       "The Good Night               736.015702  \n",
       "Jimmy P.                     330.218274  \n",
       "Maniac                       193.043982  \n",
       "Song One                     186.040743  \n",
       "L!fe Happens                  30.092218  \n",
       "The Tracey Fragments          22.168736  \n",
       "Stake Land                    19.551812  \n",
       "The Boondock Saints          196.908536  \n",
       "Rundskop                      47.539815  \n",
       "Lost River                    44.022804  \n",
       "Decoding Annie Parker         41.330853  \n",
       "Margaret                     301.107646  \n",
       "Defendor                      78.718906  \n",
       "Heist                        177.517153  \n",
       "Ca$h                         150.576493  \n",
       "December Boys                 86.069630  \n",
       "Aloft                        150.698866  \n",
       "Hatchet II                    47.524903  \n",
       "The Canyons                    4.399472  "
      ]
     },
     "execution_count": 33,
     "metadata": {},
     "output_type": "execute_result"
    }
   ],
   "source": [
    "#exploring the movies with the lowest revenue\n",
    "low_20=df.nsmallest(20,'revenue_adj')\n",
    "low_20"
   ]
  },
  {
   "cell_type": "markdown",
   "metadata": {},
   "source": [
    "From this analysis, the movie with the highest adjusted revenue is Avatar, while the one with the lowest is The Romantics."
   ]
  },
  {
   "cell_type": "code",
   "execution_count": 34,
   "metadata": {},
   "outputs": [],
   "source": [
    "# constructing a function to plot bar graphs for data frame grouped by a column and aggregated by another\n",
    "def plot_bar_groups(groupby_col, agg_col):\n",
    "    \n",
    "    df.groupby(groupby_col)[agg_col].sum().sort_values().plot.bar(figsize=(10,10));\n",
    "    "
   ]
  },
  {
   "cell_type": "code",
   "execution_count": 35,
   "metadata": {},
   "outputs": [
    {
     "data": {
      "image/png": "[encoded data removed]",
      "text/plain": [
       "<Figure size 720x720 with 1 Axes>"
      ]
     },
     "metadata": {
      "needs_background": "light"
     },
     "output_type": "display_data"
    }
   ],
   "source": [
    "# Now we investigate the revenue_adj for each year\n",
    "revenue_yearly = plot_bar_groups('release_year', 'revenue_adj')"
   ]
  },
  {
   "cell_type": "markdown",
   "metadata": {},
   "source": [
    " How does movies revenues per year affect the total revenue? \n",
    " We divide the data into three categories and see which is more correlated to the total revenue in a certain year. The categories are:\n",
    "1. Movies with revenues more than 1B  $'rev >=1B'$\n",
    "2.  Movies with revenue between 500 M and 1B  $ 'rev >0.5B \\& <1B' $\n",
    "3. Movies with revenue less than 500M  $ 'rev < 0.5B' $\n"
   ]
  },
  {
   "cell_type": "code",
   "execution_count": 36,
   "metadata": {},
   "outputs": [],
   "source": [
    "#Constructing dataframe that includes revenue_adj and its components of revenue category as described above.\n",
    "year_rev1 = pd.DataFrame(0, index=df.reset_index().release_year.unique(),\\\n",
    "                         columns=['rev >=1B', 'rev >0.5B & <1B', 'rev < 0.5B', 'revenue_adj'])"
   ]
  },
  {
   "cell_type": "code",
   "execution_count": 37,
   "metadata": {},
   "outputs": [],
   "source": [
    "#Definig a function to get the sum of revenue per revenue category\n",
    "def revenue_per_cat(constructed_df,col, df_to_aggregate, col_to_groupby, col_to_aggregate, condition):\n",
    "    constructed_df[col]= df_to_aggregate.reset_index().query(condition).groupby(col_to_groupby)[col_to_aggregate].sum()"
   ]
  },
  {
   "cell_type": "code",
   "execution_count": 38,
   "metadata": {},
   "outputs": [],
   "source": [
    "# obtaining the revenue per revenue category\n",
    "col_condition=[('rev >=1B',\"revenue_adj >=1000000000\"),\\\n",
    "               ('rev >0.5B & <1B',\" revenue_adj >= 500000000 and revenue_adj <1000000000\"),\\\n",
    "               ('rev < 0.5B',\"revenue_adj < 500000000\")]\n",
    "for i in col_condition:\n",
    "    revenue_per_cat(year_rev1, i[0], df, 'release_year','revenue_adj',i[1])"
   ]
  },
  {
   "cell_type": "code",
   "execution_count": 39,
   "metadata": {},
   "outputs": [],
   "source": [
    "# adding revenue_adj to year_rev\n",
    "year_rev1['revenue_adj']= df.groupby('release_year')['revenue_adj'].sum()"
   ]
  },
  {
   "cell_type": "code",
   "execution_count": 40,
   "metadata": {},
   "outputs": [],
   "source": [
    "# fill nan from grouping process with 0\n",
    "year_rev1.fillna(0, inplace= True);"
   ]
  },
  {
   "cell_type": "code",
   "execution_count": 41,
   "metadata": {},
   "outputs": [
    {
     "data": {
      "text/html": [
       "<div>\n",
       "<style scoped>\n",
       "    .dataframe tbody tr th:only-of-type {\n",
       "        vertical-align: middle;\n",
       "    }\n",
       "\n",
       "    .dataframe tbody tr th {\n",
       "        vertical-align: top;\n",
       "    }\n",
       "\n",
       "    .dataframe thead th {\n",
       "        text-align: right;\n",
       "    }\n",
       "</style>\n",
       "<table border=\"1\" class=\"dataframe\">\n",
       "  <thead>\n",
       "    <tr style=\"text-align: right;\">\n",
       "      <th></th>\n",
       "      <th>rev &gt;=1B</th>\n",
       "      <th>rev &gt;0.5B &amp; &lt;1B</th>\n",
       "      <th>rev &lt; 0.5B</th>\n",
       "      <th>revenue_adj</th>\n",
       "    </tr>\n",
       "  </thead>\n",
       "  <tbody>\n",
       "    <tr>\n",
       "      <th>2015</th>\n",
       "      <td>7.037742e+09</td>\n",
       "      <td>3.893685e+09</td>\n",
       "      <td>1.317523e+10</td>\n",
       "      <td>2.410666e+10</td>\n",
       "    </tr>\n",
       "    <tr>\n",
       "      <th>2014</th>\n",
       "      <td>0.000000e+00</td>\n",
       "      <td>7.365604e+09</td>\n",
       "      <td>1.480501e+10</td>\n",
       "      <td>2.217061e+10</td>\n",
       "    </tr>\n",
       "    <tr>\n",
       "      <th>1977</th>\n",
       "      <td>3.882677e+09</td>\n",
       "      <td>1.520249e+09</td>\n",
       "      <td>1.368668e+09</td>\n",
       "      <td>6.771594e+09</td>\n",
       "    </tr>\n",
       "    <tr>\n",
       "      <th>2009</th>\n",
       "      <td>2.827124e+09</td>\n",
       "      <td>5.480224e+09</td>\n",
       "      <td>1.365412e+10</td>\n",
       "      <td>2.196146e+10</td>\n",
       "    </tr>\n",
       "    <tr>\n",
       "      <th>2010</th>\n",
       "      <td>2.088639e+09</td>\n",
       "      <td>4.990140e+09</td>\n",
       "      <td>1.472558e+10</td>\n",
       "      <td>2.180436e+10</td>\n",
       "    </tr>\n",
       "  </tbody>\n",
       "</table>\n",
       "</div>"
      ],
      "text/plain": [
       "          rev >=1B  rev >0.5B & <1B    rev < 0.5B   revenue_adj\n",
       "2015  7.037742e+09     3.893685e+09  1.317523e+10  2.410666e+10\n",
       "2014  0.000000e+00     7.365604e+09  1.480501e+10  2.217061e+10\n",
       "1977  3.882677e+09     1.520249e+09  1.368668e+09  6.771594e+09\n",
       "2009  2.827124e+09     5.480224e+09  1.365412e+10  2.196146e+10\n",
       "2010  2.088639e+09     4.990140e+09  1.472558e+10  2.180436e+10"
      ]
     },
     "execution_count": 41,
     "metadata": {},
     "output_type": "execute_result"
    }
   ],
   "source": [
    "# Checking new dataframe\n",
    "year_rev1.head()"
   ]
  },
  {
   "cell_type": "code",
   "execution_count": 42,
   "metadata": {},
   "outputs": [
    {
     "data": {
      "text/plain": [
       "True"
      ]
     },
     "execution_count": 42,
     "metadata": {},
     "output_type": "execute_result"
    }
   ],
   "source": [
    "#confirm changes: total revenue_adj = revenue from 3 categories\n",
    "(year_rev1['rev >=1B'] + year_rev1['rev >0.5B & <1B']+ year_rev1['rev < 0.5B']).map('${:,.2f}'.format).sum()\\\n",
    "    == year_rev1['revenue_adj'].map('${:,.2f}'.format).sum()"
   ]
  },
  {
   "cell_type": "code",
   "execution_count": 43,
   "metadata": {},
   "outputs": [
    {
     "data": {
      "text/plain": [
       "<matplotlib.collections.PathCollection at 0x187f982c860>"
      ]
     },
     "execution_count": 43,
     "metadata": {},
     "output_type": "execute_result"
    },
    {
     "data": {
      "image/png": "[encoded data removed]",
      "text/plain": [
       "<Figure size 432x288 with 1 Axes>"
      ]
     },
     "metadata": {
      "needs_background": "light"
     },
     "output_type": "display_data"
    }
   ],
   "source": [
    "# Exploring relation between revenue_adj and category of movies > 1B$ (rev >=1B)\n",
    "plt.scatter(x=year_rev1['rev >=1B'],y=year_rev1['revenue_adj'])"
   ]
  },
  {
   "cell_type": "code",
   "execution_count": 44,
   "metadata": {},
   "outputs": [
    {
     "data": {
      "text/plain": [
       "<matplotlib.collections.PathCollection at 0x187f97a1f98>"
      ]
     },
     "execution_count": 44,
     "metadata": {},
     "output_type": "execute_result"
    },
    {
     "data": {
      "image/png": "[encoded data removed]",
      "text/plain": [
       "<Figure size 432x288 with 1 Axes>"
      ]
     },
     "metadata": {
      "needs_background": "light"
     },
     "output_type": "display_data"
    }
   ],
   "source": [
    "# Exploring relation between revenue_adj and category of movies between 1B$ and .5B (rev >0.5B & <1B)\n",
    "plt.scatter(x=year_rev1['rev >0.5B & <1B'],y=year_rev1['revenue_adj'])"
   ]
  },
  {
   "cell_type": "code",
   "execution_count": 45,
   "metadata": {},
   "outputs": [
    {
     "data": {
      "text/plain": [
       "<matplotlib.collections.PathCollection at 0x187f886e4a8>"
      ]
     },
     "execution_count": 45,
     "metadata": {},
     "output_type": "execute_result"
    },
    {
     "data": {
      "image/png": "[encoded data removed]",
      "text/plain": [
       "<Figure size 432x288 with 1 Axes>"
      ]
     },
     "metadata": {
      "needs_background": "light"
     },
     "output_type": "display_data"
    }
   ],
   "source": [
    "# Exploring relation between revenue_adj and category of movies < 0.5B$ (rev < 0.5B)\n",
    "plt.scatter(x=year_rev1['rev < 0.5B'],y=year_rev1['revenue_adj'])"
   ]
  },
  {
   "cell_type": "code",
   "execution_count": 46,
   "metadata": {},
   "outputs": [],
   "source": [
    "# Finding the correlation_coefficient between revenu_adj and different revenue categories\n",
    "revenue_category_corr =year_rev1.corr()"
   ]
  },
  {
   "cell_type": "markdown",
   "metadata": {},
   "source": [
    "### Research Question 2:  Which movies had greatest losses and which made largest profits? How did profit change through the years?"
   ]
  },
  {
   "cell_type": "code",
   "execution_count": 47,
   "metadata": {},
   "outputs": [],
   "source": [
    "# creating profit% column\n",
    "df['profit']=(df['revenue_adj']-df['budget_adj'])*100/df['budget_adj'] ;"
   ]
  },
  {
   "cell_type": "code",
   "execution_count": 48,
   "metadata": {
    "scrolled": true
   },
   "outputs": [],
   "source": [
    "#getting the top 10 movies high in profit\n",
    "top_profit = df.nlargest(10,'profit')"
   ]
  },
  {
   "cell_type": "code",
   "execution_count": 49,
   "metadata": {},
   "outputs": [],
   "source": [
    "#getting the lowest 10 movies in profit\n",
    "low_profit = df.nsmallest(10,'profit')"
   ]
  },
  {
   "cell_type": "markdown",
   "metadata": {},
   "source": [
    "The movie with the greatest profits was Paranormal Activity with $1.289 *{10}^{6}$  %, while that with losses was Foodfight! with 99.89% loss"
   ]
  },
  {
   "cell_type": "code",
   "execution_count": 50,
   "metadata": {},
   "outputs": [
    {
     "data": {
      "image/png": "[encoded data removed]",
      "text/plain": [
       "<Figure size 1080x1080 with 1 Axes>"
      ]
     },
     "metadata": {
      "needs_background": "light"
     },
     "output_type": "display_data"
    }
   ],
   "source": [
    "# We investigate the mean value of profit across the years\n",
    "mean_profit = df.groupby('release_year')['profit'].mean()\n",
    "mean_profit_plot = mean_profit.plot.line(figsize=(15,15));"
   ]
  },
  {
   "cell_type": "code",
   "execution_count": 51,
   "metadata": {},
   "outputs": [
    {
     "data": {
      "image/png": "[encoded data removed]",
      "text/plain": [
       "<Figure size 1080x1080 with 1 Axes>"
      ]
     },
     "metadata": {
      "needs_background": "light"
     },
     "output_type": "display_data"
    }
   ],
   "source": [
    "# maximum profit value each year\n",
    "max_profit = df.groupby('release_year')['profit'].max()\n",
    "max_profit_plot = max_profit.plot.line(figsize=(15,15))"
   ]
  },
  {
   "cell_type": "code",
   "execution_count": 52,
   "metadata": {},
   "outputs": [
    {
     "data": {
      "image/png": "[encoded data removed]",
      "text/plain": [
       "<Figure size 720x720 with 1 Axes>"
      ]
     },
     "metadata": {
      "needs_background": "light"
     },
     "output_type": "display_data"
    }
   ],
   "source": [
    "# number of movies each year\n",
    "movies_count = df.groupby('release_year')['id'].count()\n",
    "movies_count_plot = movies_count.plot.line(figsize=(10,10));"
   ]
  },
  {
   "cell_type": "markdown",
   "metadata": {},
   "source": [
    "It seems that the mean and median profit values have a general decreasing trend, with peaks. \n",
    "\n",
    "For the peaks 1990-2010, the mean profit values per year have several peaks including in 1999 and 2007. These peaks are a result of the maximum values for those years which are much higher than the rest of the data, pulling the mean up but it's much smaller than max values bacause of the effect of number of movies produced in these years.\n",
    "\n",
    "However, the peaks in the period 1970-1980 are a result of the small number of movies produced, which make the effect of the movies with large profit values evident."
   ]
  },
  {
   "cell_type": "markdown",
   "metadata": {},
   "source": [
    "### Research Question 3 : Which year has the largest sum of vote_count ? and which movie? How does vote_count relate to other variables?\n"
   ]
  },
  {
   "cell_type": "code",
   "execution_count": 53,
   "metadata": {},
   "outputs": [
    {
     "data": {
      "image/png": "[encoded data removed]",
      "text/plain": [
       "<Figure size 720x720 with 1 Axes>"
      ]
     },
     "metadata": {
      "needs_background": "light"
     },
     "output_type": "display_data"
    }
   ],
   "source": [
    "# Computing the vote_count totals per year\n",
    "sum_vote_count = df.groupby('release_year')['vote_count'].sum()\n",
    "sum_vote_count.plot(kind = 'bar', figsize=(10,10));"
   ]
  },
  {
   "cell_type": "code",
   "execution_count": 54,
   "metadata": {},
   "outputs": [
    {
     "data": {
      "image/png": "[encoded data removed]",
      "text/plain": [
       "<Figure size 720x720 with 1 Axes>"
      ]
     },
     "metadata": {
      "needs_background": "light"
     },
     "output_type": "display_data"
    }
   ],
   "source": [
    "# Computing the vote_count totals per year\n",
    "max_vote_count = df.groupby('release_year')['vote_count'].max()\n",
    "max_vote_count.plot(kind = 'bar', figsize=(10,10));"
   ]
  },
  {
   "cell_type": "code",
   "execution_count": 55,
   "metadata": {},
   "outputs": [
    {
     "data": {
      "image/png": "[encoded data removed]",
      "text/plain": [
       "<Figure size 432x288 with 1 Axes>"
      ]
     },
     "metadata": {
      "needs_background": "light"
     },
     "output_type": "display_data"
    }
   ],
   "source": [
    "# plotting scatter for popularity vs. vote_count\n",
    "plt.scatter(x= df['release_year'],y=df['vote_count']);\n",
    "plt.xlabel('release_year');\n",
    "plt.ylabel('vote_count');"
   ]
  },
  {
   "cell_type": "code",
   "execution_count": 56,
   "metadata": {},
   "outputs": [
    {
     "data": {
      "image/png": "[encoded data removed]",
      "text/plain": [
       "<Figure size 432x288 with 1 Axes>"
      ]
     },
     "metadata": {
      "needs_background": "light"
     },
     "output_type": "display_data"
    }
   ],
   "source": [
    "# plotting scatter for popularity vs. vote_count\n",
    "plt.scatter(x= df['popularity'],y=df['vote_count']);\n",
    "plt.xlabel('popularity');\n",
    "plt.ylabel('vote_count');"
   ]
  },
  {
   "cell_type": "code",
   "execution_count": 57,
   "metadata": {},
   "outputs": [
    {
     "data": {
      "image/png": "[encoded data removed]",
      "text/plain": [
       "<Figure size 432x288 with 1 Axes>"
      ]
     },
     "metadata": {
      "needs_background": "light"
     },
     "output_type": "display_data"
    }
   ],
   "source": [
    "# plotting scatter for popularity vs. vote_count\n",
    "plt.scatter(x= df['revenue_adj'],y=df['vote_count']);\n",
    "plt.xlabel('revenue_adj');\n",
    "plt.ylabel('vote_count');"
   ]
  },
  {
   "cell_type": "code",
   "execution_count": 58,
   "metadata": {},
   "outputs": [
    {
     "data": {
      "image/png": "[encoded data removed]",
      "text/plain": [
       "<Figure size 432x288 with 1 Axes>"
      ]
     },
     "metadata": {
      "needs_background": "light"
     },
     "output_type": "display_data"
    }
   ],
   "source": [
    "# plotting scatter for popularity vs. vote_count\n",
    "plt.scatter(x= df['budget_adj'],y=df['vote_count']);\n",
    "plt.xlabel('budget_adj');\n",
    "plt.ylabel('vote_count');"
   ]
  },
  {
   "cell_type": "markdown",
   "metadata": {},
   "source": [
    "Vote_count is moderately correlated with revenue_adj and budget_adj variable and strongly correlated with popularity."
   ]
  },
  {
   "cell_type": "code",
   "execution_count": 59,
   "metadata": {},
   "outputs": [],
   "source": [
    "#investigatin correlation with all other variables numerically\n",
    "vote_count_corr = df.corr().loc[:,'vote_count']"
   ]
  },
  {
   "cell_type": "markdown",
   "metadata": {},
   "source": [
    "We find that the strongest correlation vote_count has, is indeed with popularity and equals .779"
   ]
  },
  {
   "cell_type": "markdown",
   "metadata": {},
   "source": [
    "### Research Question 4: Who are the top directors in terms of their films' revenue and popularity? Who made it to the list of the top 3 change over the last 10 years of the data?"
   ]
  },
  {
   "cell_type": "code",
   "execution_count": 60,
   "metadata": {},
   "outputs": [
    {
     "data": {
      "image/png": "[encoded data removed]",
      "text/plain": [
       "<Figure size 576x576 with 1 Axes>"
      ]
     },
     "metadata": {
      "needs_background": "light"
     },
     "output_type": "display_data"
    }
   ],
   "source": [
    "# Plotting the total revenue_adj for every director\n",
    "director_revenue = df_dir.groupby('director')['revenue_adj'].sum()\n",
    "director_revenue.sort_values(ascending=False).nlargest(10).plot.bar(figsize=(8,8));\n"
   ]
  },
  {
   "cell_type": "code",
   "execution_count": 61,
   "metadata": {},
   "outputs": [
    {
     "data": {
      "image/png": "[encoded data removed]",
      "text/plain": [
       "<Figure size 576x576 with 1 Axes>"
      ]
     },
     "metadata": {
      "needs_background": "light"
     },
     "output_type": "display_data"
    }
   ],
   "source": [
    "# Plotting the average popularity of movies for every director\n",
    "director_popularity = df_dir.groupby('director')['popularity'].mean()\n",
    "director_popularity.sort_values(ascending=False).nlargest(10).plot.bar(figsize=(8,8));\n"
   ]
  },
  {
   "cell_type": "markdown",
   "metadata": {},
   "source": [
    "The director whose movies have the highest sum of adjusted revenue is Steven Spielberg, while that with highest average popularity to his films is Collin Trevorrow."
   ]
  },
  {
   "cell_type": "markdown",
   "metadata": {},
   "source": [
    "Who made it to the top 3 in revenue for the last 10 years of the data"
   ]
  },
  {
   "cell_type": "code",
   "execution_count": 62,
   "metadata": {},
   "outputs": [
    {
     "data": {
      "text/plain": [
       "David Yates          4\n",
       "Carlos Saldanha      2\n",
       "Gore Verbinski       2\n",
       "Christopher Nolan    2\n",
       "Pierre Coffin        1\n",
       "Peter Jackson        1\n",
       "Sam Raimi            1\n",
       "James Gunn           1\n",
       "Robert Stromberg     1\n",
       "Lee Unkrich          1\n",
       "Michael Bay          1\n",
       "Chris Buck           1\n",
       "J.J. Abrams          1\n",
       "Sam Mendes           1\n",
       "James Cameron        1\n",
       "Steven Spielberg     1\n",
       "Rob Marshall         1\n",
       "Colin Trevorrow      1\n",
       "James Wan            1\n",
       "Mark Osborne         1\n",
       "Ron Howard           1\n",
       "Shane Black          1\n",
       "Tim Burton           1\n",
       "Joss Whedon          1\n",
       "Name: total_revenue, dtype: int64"
      ]
     },
     "execution_count": 62,
     "metadata": {},
     "output_type": "execute_result"
    }
   ],
   "source": [
    "# Getting the top 3 directors in each year with resepct to the revenue_adj\n",
    "dir_list_top_rev=pd.DataFrame(df_dir.groupby(['release_year','director'])['revenue_adj'].sum().groupby(level=0,group_keys=False).nlargest(3)[-1:-31:-1])\n",
    "#Finding the number of times each name appeared in that list\n",
    "dir_list_top_rev=dir_list_top_rev.reset_index()['director'].value_counts().rename('total_revenue')\n",
    "dir_list_top_rev"
   ]
  },
  {
   "cell_type": "code",
   "execution_count": 63,
   "metadata": {},
   "outputs": [
    {
     "data": {
      "text/plain": [
       "Christopher Nolan       4\n",
       "Gore Verbinski          2\n",
       "Jon Favreau             2\n",
       "David Yates             2\n",
       "Chris Buck              1\n",
       "Robert Schwentke        1\n",
       "James Cameron           1\n",
       "John Lasseter           1\n",
       "Patrick Tatopoulos      1\n",
       "James Gunn              1\n",
       "Tim Burton              1\n",
       "Joe Russo               1\n",
       "Brad Bird               1\n",
       "Len Wiseman             1\n",
       "Alan Taylor             1\n",
       "Joe Johnston            1\n",
       "Alfonso CuarÃ³n         1\n",
       "George Miller           1\n",
       "Colin Trevorrow         1\n",
       "MÃ¥ns MÃ¥rlind          1\n",
       "Andrew Stanton          1\n",
       "Quentin Tarantino       1\n",
       "Nicolas Winding Refn    1\n",
       "Joss Whedon             1\n",
       "Name: popularity_avg, dtype: int64"
      ]
     },
     "execution_count": 63,
     "metadata": {},
     "output_type": "execute_result"
    }
   ],
   "source": [
    "# Getting the top 3 directors in each year with resepct to the popularity\n",
    "dir_list_toppop=pd.DataFrame(df_dir.groupby(['release_year','director'])['popularity'].mean().groupby(level=0,group_keys=False).nlargest(3)[-1:-31:-1])\n",
    "#Finding the number of times each name appeared in that list\n",
    "dir_list_toppop=dir_list_toppop.reset_index()['director'].value_counts().rename('popularity_avg')\n",
    "dir_list_toppop"
   ]
  },
  {
   "cell_type": "code",
   "execution_count": 64,
   "metadata": {},
   "outputs": [],
   "source": [
    "# Construct dataframe with number of times director appeared in the top 3 list for either total_revenue or popularity_avg\n",
    "top_directors  = pd.concat([dir_list_top_rev,dir_list_toppop], axis = 1).fillna(0)"
   ]
  },
  {
   "cell_type": "markdown",
   "metadata": {},
   "source": [
    "<a id='conclusions'></a>\n",
    "## Conclusions\n"
   ]
  },
  {
   "cell_type": "markdown",
   "metadata": {},
   "source": [
    "In this section, we conlude our findings for each question posed during the analysis process.\n",
    "<p> Some limitations due to the cleaning process are:\n",
    "    <li> The cutoff ratio and values chosen were based on observation from bar charts </li>\n",
    "    <li> The eraneous values of budget and revenue from the database led to removal of rows, whose values if correct might have changed the current analysis results</li>\n",
    "    <li> Due to lack of data in some columns, many records (more than 60%) were dropped. This can cause a large error in values of analyzed variables and some game changer values may have been dropped.</li>\n",
    "    "
   ]
  },
  {
   "cell_type": "markdown",
   "metadata": {},
   "source": [
    "### Research Question 1: Which movies have the highest and lowest revenue? How does revenue relate to number of movies exceeding billion dollars that year and other revenue ranges?"
   ]
  },
  {
   "cell_type": "code",
   "execution_count": 65,
   "metadata": {},
   "outputs": [
    {
     "data": {
      "text/plain": [
       "('Avatar',\n",
       " id                        19995\n",
       " popularity              9.43277\n",
       " budget                 2.37e+08\n",
       " revenue             2.78151e+09\n",
       " genres                   Action\n",
       " vote_count                 8458\n",
       " vote_average                7.1\n",
       " release_year               2009\n",
       " budget_adj          2.40887e+08\n",
       " revenue_adj         2.82712e+09\n",
       " budget_rev_ratio      0.0852056\n",
       " Name: Avatar, dtype: object)"
      ]
     },
     "execution_count": 65,
     "metadata": {},
     "output_type": "execute_result"
    }
   ],
   "source": [
    "#The movie with largest revenue_adj\n",
    "top_20.index[0], top_20.loc[top_20.index[0]]"
   ]
  },
  {
   "cell_type": "code",
   "execution_count": 66,
   "metadata": {},
   "outputs": [
    {
     "data": {
      "text/plain": [
       "('The Divide',\n",
       " id                            38541\n",
       " popularity                 0.189663\n",
       " budget                        3e+06\n",
       " revenue                       22000\n",
       " genres              Science Fiction\n",
       " vote_count                       86\n",
       " vote_average                    5.6\n",
       " release_year                   2011\n",
       " budget_adj              2.90819e+06\n",
       " revenue_adj                 21326.8\n",
       " budget_rev_ratio            136.364\n",
       " Name: The Divide, dtype: object)"
      ]
     },
     "execution_count": 66,
     "metadata": {},
     "output_type": "execute_result"
    }
   ],
   "source": [
    "#The movie with least revenue_adj\n",
    "low_20.index[0], low_20.loc[low_20.index[0]]"
   ]
  },
  {
   "cell_type": "markdown",
   "metadata": {},
   "source": [
    "Dividing the revenue_adj into 3 categories and finding the correlation between them."
   ]
  },
  {
   "cell_type": "code",
   "execution_count": 67,
   "metadata": {},
   "outputs": [
    {
     "data": {
      "text/html": [
       "<div>\n",
       "<style scoped>\n",
       "    .dataframe tbody tr th:only-of-type {\n",
       "        vertical-align: middle;\n",
       "    }\n",
       "\n",
       "    .dataframe tbody tr th {\n",
       "        vertical-align: top;\n",
       "    }\n",
       "\n",
       "    .dataframe thead th {\n",
       "        text-align: right;\n",
       "    }\n",
       "</style>\n",
       "<table border=\"1\" class=\"dataframe\">\n",
       "  <thead>\n",
       "    <tr style=\"text-align: right;\">\n",
       "      <th></th>\n",
       "      <th>rev &gt;=1B</th>\n",
       "      <th>rev &gt;0.5B &amp; &lt;1B</th>\n",
       "      <th>rev &lt; 0.5B</th>\n",
       "      <th>revenue_adj</th>\n",
       "    </tr>\n",
       "  </thead>\n",
       "  <tbody>\n",
       "    <tr>\n",
       "      <th>rev &gt;=1B</th>\n",
       "      <td>1.000000</td>\n",
       "      <td>0.344180</td>\n",
       "      <td>0.439205</td>\n",
       "      <td>0.567746</td>\n",
       "    </tr>\n",
       "    <tr>\n",
       "      <th>rev &gt;0.5B &amp; &lt;1B</th>\n",
       "      <td>0.344180</td>\n",
       "      <td>1.000000</td>\n",
       "      <td>0.819724</td>\n",
       "      <td>0.882056</td>\n",
       "    </tr>\n",
       "    <tr>\n",
       "      <th>rev &lt; 0.5B</th>\n",
       "      <td>0.439205</td>\n",
       "      <td>0.819724</td>\n",
       "      <td>1.000000</td>\n",
       "      <td>0.977125</td>\n",
       "    </tr>\n",
       "    <tr>\n",
       "      <th>revenue_adj</th>\n",
       "      <td>0.567746</td>\n",
       "      <td>0.882056</td>\n",
       "      <td>0.977125</td>\n",
       "      <td>1.000000</td>\n",
       "    </tr>\n",
       "  </tbody>\n",
       "</table>\n",
       "</div>"
      ],
      "text/plain": [
       "                 rev >=1B  rev >0.5B & <1B  rev < 0.5B  revenue_adj\n",
       "rev >=1B         1.000000         0.344180    0.439205     0.567746\n",
       "rev >0.5B & <1B  0.344180         1.000000    0.819724     0.882056\n",
       "rev < 0.5B       0.439205         0.819724    1.000000     0.977125\n",
       "revenue_adj      0.567746         0.882056    0.977125     1.000000"
      ]
     },
     "execution_count": 67,
     "metadata": {},
     "output_type": "execute_result"
    }
   ],
   "source": [
    "revenue_category_corr"
   ]
  },
  {
   "cell_type": "markdown",
   "metadata": {},
   "source": [
    "<p> revenue_adj is more correlated to movies of category less than 0.5 billion dollars. </p>"
   ]
  },
  {
   "cell_type": "markdown",
   "metadata": {},
   "source": [
    "### Research Question 2:  Which movies had greatest losses and which made largest profits? How did profit change through the last 10 years?"
   ]
  },
  {
   "cell_type": "markdown",
   "metadata": {},
   "source": [
    "comparing the movie with top profit percentage to that with the least profit percentage (loss)."
   ]
  },
  {
   "cell_type": "code",
   "execution_count": 68,
   "metadata": {},
   "outputs": [
    {
     "data": {
      "text/html": [
       "<div>\n",
       "<style scoped>\n",
       "    .dataframe tbody tr th:only-of-type {\n",
       "        vertical-align: middle;\n",
       "    }\n",
       "\n",
       "    .dataframe tbody tr th {\n",
       "        vertical-align: top;\n",
       "    }\n",
       "\n",
       "    .dataframe thead th {\n",
       "        text-align: right;\n",
       "    }\n",
       "</style>\n",
       "<table border=\"1\" class=\"dataframe\">\n",
       "  <thead>\n",
       "    <tr style=\"text-align: right;\">\n",
       "      <th></th>\n",
       "      <th>name</th>\n",
       "      <th>profit_val</th>\n",
       "    </tr>\n",
       "  </thead>\n",
       "  <tbody>\n",
       "    <tr>\n",
       "      <th>0</th>\n",
       "      <td>Paranormal Activity</td>\n",
       "      <td>1.288939e+06</td>\n",
       "    </tr>\n",
       "    <tr>\n",
       "      <th>1</th>\n",
       "      <td>Foodfight!</td>\n",
       "      <td>-9.988661e+01</td>\n",
       "    </tr>\n",
       "  </tbody>\n",
       "</table>\n",
       "</div>"
      ],
      "text/plain": [
       "                  name    profit_val\n",
       "0  Paranormal Activity  1.288939e+06\n",
       "1           Foodfight! -9.988661e+01"
      ]
     },
     "execution_count": 68,
     "metadata": {},
     "output_type": "execute_result"
    }
   ],
   "source": [
    "top_movie =top_profit['profit'].index[0] # name of movie with highest profit\n",
    "top_profit_val = top_profit['profit'].iloc[0] # value of highest profit\n",
    "low_movie = low_profit['profit'].index[0]  # name of movie with lowest profit\n",
    "low_profit_val = low_profit['profit'].iloc[0] # value of lowest profit\n",
    "#showing values in dataframe\n",
    "pd.DataFrame({'name': [top_movie, low_movie],'profit_val': [top_profit_val, low_profit_val]})"
   ]
  },
  {
   "cell_type": "markdown",
   "metadata": {},
   "source": [
    "Paranormal activity is the movies with highest profit with over a million percent. Foodfight has a loss of 99.89%."
   ]
  },
  {
   "cell_type": "markdown",
   "metadata": {},
   "source": [
    "The overall trend of mean profit values is decreasing with some peaks. "
   ]
  },
  {
   "cell_type": "code",
   "execution_count": 69,
   "metadata": {},
   "outputs": [
    {
     "data": {
      "image/png": "[encoded data removed]",
      "text/plain": [
       "<Figure size 720x720 with 1 Axes>"
      ]
     },
     "metadata": {
      "needs_background": "light"
     },
     "output_type": "display_data"
    }
   ],
   "source": [
    "# plot mean profit values across the years\n",
    "mean_profit.plot.line(figsize=(10,10));\n"
   ]
  },
  {
   "cell_type": "markdown",
   "metadata": {},
   "source": [
    "The peaks can be understood when looking at the maximum profit and movie numbers each year"
   ]
  },
  {
   "cell_type": "code",
   "execution_count": 70,
   "metadata": {},
   "outputs": [
    {
     "data": {
      "text/html": [
       "<div>\n",
       "<style scoped>\n",
       "    .dataframe tbody tr th:only-of-type {\n",
       "        vertical-align: middle;\n",
       "    }\n",
       "\n",
       "    .dataframe tbody tr th {\n",
       "        vertical-align: top;\n",
       "    }\n",
       "\n",
       "    .dataframe thead th {\n",
       "        text-align: right;\n",
       "    }\n",
       "</style>\n",
       "<table border=\"1\" class=\"dataframe\">\n",
       "  <thead>\n",
       "    <tr style=\"text-align: right;\">\n",
       "      <th></th>\n",
       "      <th>max_profit</th>\n",
       "      <th>movies_count</th>\n",
       "    </tr>\n",
       "    <tr>\n",
       "      <th>release_year</th>\n",
       "      <th></th>\n",
       "      <th></th>\n",
       "    </tr>\n",
       "  </thead>\n",
       "  <tbody>\n",
       "    <tr>\n",
       "      <th>2007</th>\n",
       "      <td>1.288939e+06</td>\n",
       "      <td>162</td>\n",
       "    </tr>\n",
       "    <tr>\n",
       "      <th>1999</th>\n",
       "      <td>9.919000e+05</td>\n",
       "      <td>114</td>\n",
       "    </tr>\n",
       "    <tr>\n",
       "      <th>1977</th>\n",
       "      <td>6.990000e+04</td>\n",
       "      <td>19</td>\n",
       "    </tr>\n",
       "    <tr>\n",
       "      <th>1972</th>\n",
       "      <td>4.990000e+04</td>\n",
       "      <td>8</td>\n",
       "    </tr>\n",
       "    <tr>\n",
       "      <th>2004</th>\n",
       "      <td>4.386166e+04</td>\n",
       "      <td>146</td>\n",
       "    </tr>\n",
       "    <tr>\n",
       "      <th>2015</th>\n",
       "      <td>4.256441e+04</td>\n",
       "      <td>159</td>\n",
       "    </tr>\n",
       "    <tr>\n",
       "      <th>1974</th>\n",
       "      <td>3.620471e+04</td>\n",
       "      <td>13</td>\n",
       "    </tr>\n",
       "    <tr>\n",
       "      <th>1979</th>\n",
       "      <td>2.490000e+04</td>\n",
       "      <td>16</td>\n",
       "    </tr>\n",
       "    <tr>\n",
       "      <th>1978</th>\n",
       "      <td>2.323333e+04</td>\n",
       "      <td>16</td>\n",
       "    </tr>\n",
       "    <tr>\n",
       "      <th>1973</th>\n",
       "      <td>1.470051e+04</td>\n",
       "      <td>12</td>\n",
       "    </tr>\n",
       "  </tbody>\n",
       "</table>\n",
       "</div>"
      ],
      "text/plain": [
       "                max_profit  movies_count\n",
       "release_year                            \n",
       "2007          1.288939e+06           162\n",
       "1999          9.919000e+05           114\n",
       "1977          6.990000e+04            19\n",
       "1972          4.990000e+04             8\n",
       "2004          4.386166e+04           146\n",
       "2015          4.256441e+04           159\n",
       "1974          3.620471e+04            13\n",
       "1979          2.490000e+04            16\n",
       "1978          2.323333e+04            16\n",
       "1973          1.470051e+04            12"
      ]
     },
     "execution_count": 70,
     "metadata": {},
     "output_type": "execute_result"
    }
   ],
   "source": [
    "# construct dataframe for max_profit and movies_count for each year.\n",
    "profit_count = pd.concat([max_profit,movies_count], axis=1).rename(columns={'profit': 'max_profit','id':'movies_count'})\n",
    "# finding the first 10 movies with highest max_profit\n",
    "profit_count.nlargest(10,'max_profit')"
   ]
  },
  {
   "cell_type": "markdown",
   "metadata": {},
   "source": [
    "From the table we can note that the peaks occur 2007, 1999, 1977, and 1972 and those peaks 1999-2010 have a large number of movies produced during their years of release. While the peaks in 1977 and 1972 have a low number of movies produced, causing the shape of our mean curve."
   ]
  },
  {
   "cell_type": "markdown",
   "metadata": {},
   "source": [
    "### Research Question 3 : Which year has the largest sum of vote_count ? and which movie? How does vote_count relate to other variables?"
   ]
  },
  {
   "cell_type": "code",
   "execution_count": 71,
   "metadata": {},
   "outputs": [
    {
     "data": {
      "image/png": "[encoded data removed]",
      "text/plain": [
       "<Figure size 432x288 with 1 Axes>"
      ]
     },
     "metadata": {
      "needs_background": "light"
     },
     "output_type": "display_data"
    }
   ],
   "source": [
    "# Plotting the top 10 years in vote_count sum\n",
    "top_sum_vote_count=pd.DataFrame(sum_vote_count.nlargest(10))\n",
    "top_sum_vote_count.sort_index().plot.bar();"
   ]
  },
  {
   "cell_type": "code",
   "execution_count": 72,
   "metadata": {},
   "outputs": [
    {
     "data": {
      "text/plain": [
       "182219"
      ]
     },
     "execution_count": 72,
     "metadata": {},
     "output_type": "execute_result"
    }
   ],
   "source": [
    "# Getting the maximum value\n",
    "top_sum_vote_count.max()[0]"
   ]
  },
  {
   "cell_type": "markdown",
   "metadata": {},
   "source": [
    "As per bar chart, 2013 has the highest number of vote-count reaching 182,219 total votes. This result is not conclusive as the data we dropped had more movies than those we worked on."
   ]
  },
  {
   "cell_type": "code",
   "execution_count": 73,
   "metadata": {},
   "outputs": [
    {
     "data": {
      "text/plain": [
       "id                      27205\n",
       "popularity            9.36364\n",
       "budget                1.6e+08\n",
       "revenue             8.255e+08\n",
       "genres                 Action\n",
       "vote_count               9767\n",
       "vote_average              7.9\n",
       "release_year             2010\n",
       "budget_adj            1.6e+08\n",
       "revenue_adj         8.255e+08\n",
       "budget_rev_ratio     0.193822\n",
       "profit                415.938\n",
       "Name: Inception, dtype: object"
      ]
     },
     "execution_count": 73,
     "metadata": {},
     "output_type": "execute_result"
    }
   ],
   "source": [
    "#Getting the  movie with highest vote_count\n",
    "df.loc[df['vote_count'].idxmax()]"
   ]
  },
  {
   "cell_type": "markdown",
   "metadata": {},
   "source": [
    "Inception is the movie with highest vote_count, receiving 9767 votes."
   ]
  },
  {
   "cell_type": "code",
   "execution_count": 74,
   "metadata": {},
   "outputs": [
    {
     "data": {
      "text/plain": [
       "id                  0.115638\n",
       "popularity          0.779245\n",
       "budget              0.554984\n",
       "revenue             0.753591\n",
       "vote_count          1.000000\n",
       "vote_average        0.387547\n",
       "release_year        0.210794\n",
       "budget_adj          0.495469\n",
       "revenue_adj         0.653221\n",
       "budget_rev_ratio   -0.063861\n",
       "profit              0.004976\n",
       "Name: vote_count, dtype: float64"
      ]
     },
     "execution_count": 74,
     "metadata": {},
     "output_type": "execute_result"
    }
   ],
   "source": [
    "# How vote_count is correlated to other variables\n",
    "vote_count_corr"
   ]
  },
  {
   "cell_type": "markdown",
   "metadata": {},
   "source": [
    "The vote_count is correlated to unadjsuted revenue the most with coefficient of 0.754 then to the revenue_adj with a moderate value of 0.653."
   ]
  },
  {
   "cell_type": "markdown",
   "metadata": {},
   "source": [
    "### Research Question 4: Who are the top directors in terms of their films' revenue and popularity? How did the list of the top 3 change with time?"
   ]
  },
  {
   "cell_type": "markdown",
   "metadata": {},
   "source": [
    "For this question, the limitations of removal of many movies may have affected the results. "
   ]
  },
  {
   "cell_type": "markdown",
   "metadata": {},
   "source": [
    "First, we find the director whose movies had the highest revenue_adj total over the entire period of the data set"
   ]
  },
  {
   "cell_type": "code",
   "execution_count": 75,
   "metadata": {},
   "outputs": [
    {
     "data": {
      "text/plain": [
       "'Steven Spielberg'"
      ]
     },
     "execution_count": 75,
     "metadata": {},
     "output_type": "execute_result"
    }
   ],
   "source": [
    "# find top_director in revenue\n",
    "director_revenue.idxmax()"
   ]
  },
  {
   "cell_type": "code",
   "execution_count": 76,
   "metadata": {},
   "outputs": [
    {
     "data": {
      "text/plain": [
       "15202446786.618376"
      ]
     },
     "execution_count": 76,
     "metadata": {},
     "output_type": "execute_result"
    }
   ],
   "source": [
    "#find value of highest revenue for movies of a director\n",
    "director_revenue.max()"
   ]
  },
  {
   "cell_type": "markdown",
   "metadata": {},
   "source": [
    "The top director with regard to revenue_adj is Steven Spielberg with 15 billion dollars total revenue_adj. Now, we find that in terms of his movies'average popularity"
   ]
  },
  {
   "cell_type": "code",
   "execution_count": 77,
   "metadata": {},
   "outputs": [
    {
     "data": {
      "text/plain": [
       "'Colin Trevorrow'"
      ]
     },
     "execution_count": 77,
     "metadata": {},
     "output_type": "execute_result"
    }
   ],
   "source": [
    "# find top_director in movies' popularity\n",
    "director_popularity.idxmax()"
   ]
  },
  {
   "cell_type": "code",
   "execution_count": 78,
   "metadata": {},
   "outputs": [
    {
     "data": {
      "text/plain": [
       "16.696886499999998"
      ]
     },
     "execution_count": 78,
     "metadata": {},
     "output_type": "execute_result"
    }
   ],
   "source": [
    "#find value of highest revenue for movies of a director\n",
    "director_popularity.max()\n"
   ]
  },
  {
   "cell_type": "markdown",
   "metadata": {},
   "source": [
    "The top director with regard to movies' average popularity is Colin Trevorrow with average popularity of 16.7"
   ]
  },
  {
   "cell_type": "markdown",
   "metadata": {},
   "source": [
    "Finding the directors who made it to the top 3 list in terms of total movies' revenue (adjusted values) and average popularity"
   ]
  },
  {
   "cell_type": "code",
   "execution_count": 79,
   "metadata": {},
   "outputs": [
    {
     "data": {
      "text/plain": [
       "('David Yates', 4.0)"
      ]
     },
     "execution_count": 79,
     "metadata": {},
     "output_type": "execute_result"
    }
   ],
   "source": [
    "# find director with most frequent appearance in the top 3 total_revenue's list and frequency\n",
    "top_directors['total_revenue'].idxmax(), top_directors['total_revenue'].max()"
   ]
  },
  {
   "cell_type": "code",
   "execution_count": 80,
   "metadata": {},
   "outputs": [
    {
     "data": {
      "text/plain": [
       "('Christopher Nolan', 4.0)"
      ]
     },
     "execution_count": 80,
     "metadata": {},
     "output_type": "execute_result"
    }
   ],
   "source": [
    "# find director with most frequent appearance in the top 3 popularity_avg's list and frequency\n",
    "top_directors['popularity_avg'].idxmax(), top_directors['popularity_avg'].max()"
   ]
  },
  {
   "cell_type": "markdown",
   "metadata": {},
   "source": [
    "We find that David Yates had made it in 4 years to the top 3 list in terms of movies' revenue, while Christopher Nolan's movies were in the top 3 list in terms of movies' average popularity in 4 different years."
   ]
  }
 ],
 "metadata": {
  "kernelspec": {
   "display_name": "Python 3",
   "language": "python",
   "name": "python3"
  },
  "language_info": {
   "codemirror_mode": {
    "name": "ipython",
    "version": 3
   },
   "file_extension": ".py",
   "mimetype": "text/x-python",
   "name": "python",
   "nbconvert_exporter": "python",
   "pygments_lexer": "ipython3",
   "version": "3.6.10"
  }
 },
 "nbformat": 4,
 "nbformat_minor": 2
}
